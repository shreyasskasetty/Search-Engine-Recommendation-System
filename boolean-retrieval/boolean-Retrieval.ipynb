{
  "cells": [
    {
      "cell_type": "markdown",
      "metadata": {
        "id": "zAxczUGVN-Jc"
      },
      "source": [
        "# Information Storage & Retrieval \n",
        "\n",
        "\n",
        "## Lyrical Search Engine, The Beginning"
      ]
    },
    {
      "cell_type": "markdown",
      "metadata": {
        "id": "9CKllFl-N-Jk"
      },
      "source": [
        "### Dataset: Genius Lyrics Dataset\n",
        "A small collection of the lyrics to 1000 songs collected from Genius (https://genius.com/) is used. The full data was originally collected by Austin Benson at Cornell (https://www.cs.cornell.edu/~arb/data/genius-expertise/)."
      ]
    },
    {
      "cell_type": "markdown",
      "metadata": {
        "id": "DaiOjFANN-Jo"
      },
      "source": [
        "### Part 1: Read and Parse the Lyrics Data"
      ]
    },
    {
      "cell_type": "markdown",
      "metadata": {
        "id": "m0sMQsv-mg1l"
      },
      "source": [
        "#### Print the first two documents\n",
        "\n"
      ]
    },
    {
      "cell_type": "code",
      "execution_count": 2,
      "metadata": {},
      "outputs": [
        {
          "name": "stdout",
          "output_type": "stream",
          "text": [
            "Justin-bieber-one-time-lyrics \"\\n\\n[Intro]\\nMe plus you\\nI'mma tell you one time\\nMe plus you (one time)\\nI'mma tell you one time\\nMe plus you (one time)\\nI'mma tell you one time\\nOne time, one time\\n\\n[Verse 1]\\nWhen I met you, girl, my heart went knock, knock\\nNow them butterflies in my stomach won't stop, stop\\nAnd even though it's a struggle, love is all we got\\nSo we gon' keep, keep climbing to the mountain top\\n\\n[Pre-Chorus]\\nYour world is my world\\nAnd my fight is your fight\\nAnd my breath is your breath\\nWhen you're hurt, I'm not right\\n\\n[Chorus]\\nAnd girl, you're my one love\\nMy one heart, my one life for sure\\nLet me tell you one time (girl, I love, girl, I love you)\\nI'mma tell you one time (girl, I love, girl, I love you)\\nAnd I'mma be your one guy, you'll be my number one girl\\nAlways making time for you\\nI'mma tell you one time (girl, I love, girl, I love you)\\nI'mma tell you one time (girl, I love, girl, I love you)\\n\\n[Verse 2]\\nYour love's so deep\\nYou know that it humbles me\\nYou're by my side\\nThem troubles, them not trouble me\\nMany have called, but the chosen is you\\nWhatever you want shawty, I'll give it to you\\n\\n[Pre-Chorus]\\nYour world is my world\\nAnd my fight is your fight\\nAnd my breath is your breath\\nWhen you're hurt, I'm not right\\n\\n[Chorus]\\nAnd girl, you're my one love\\nMy one heart, my one life for sure\\nLet me tell you one time (girl, I love, girl, I love you)\\nI'mma tell you one time (girl, I love, girl, I love you)\\nAnd I'mma be your one guy, you'll be my number one girl\\nAlways making time for you\\nI'mma tell you one time (girl, I love, girl, I love you)\\nI'mma tell you one time (girl, I love, girl, I love you)\\n\\n[Bridge]\\nShawty right there\\nShe's got everything I need\\nAnd I'mma tell her one time, one time, one time\\nGive you everything you need\\nDown to my last dime\\nShe makes me happy\\nI know where I'll be\\nRight by your side 'cause she is the one for me, yeah\\n\\n[Chorus]\\nAnd girl, you're my one love\\nMy one heart, my one life for sure\\nLet me tell you one time (girl, I love, girl, I love you)\\nI'mma tell you one time (girl, I love, girl, I love you)\\nAnd I'mma be your one guy, you'll be my number one girl\\nAlways making time for you\\nI'mma tell you one time (girl, I love, girl, I love you)\\nI'mma tell you one time (girl, I love, girl, I love you)\\n\\n[Outro]\\nMe plus you\\nI'mma tell you one time\\nMe plus you\\nI'mma tell you one time\\nMe plus you\\nI'mma tell you one time\\nOne time, one time\\n\\n\"\n",
            "Bones-connectingtoserver-lyrics \"\\n\\n[Hook 1]\\nCan you stand the rain?\\nNew Edition, like the calendar say '88\\nMatte black trench coat with the razor straight\\nMake ya drop and give me 20 like Major Payne\\nNow they signing off to majors for the lamest change\\nTrying to justify it like it's always been the dream\\nThey go with the scheme, I evolve with my team\\nNo label attached, no strings on me, can you?\\nCan you stand the rain?\\nNew edition like the calendar say '88\\nMatte black trench coat with the razor straight\\nMake ya drop and give me 20 like Major Payne\\n\\n[Post-Hook]\\nEver since we came up, don't know how to act\\nNow I need a pack just to help me relax\\nEver since we came up, don't know how to act\\nLooking at the map, only way to know where I'm at\\nEver since we came up, don't know how to act\\nNow I need a pack just to help me relax\\nEver since we came up, don't know how to act\\nLooking at the map, only way to know where I'm at\\nWhat, What\\n\\n[Verse]\\nClose the doors and quickly, I'm calling order\\nI'm swiftly when I'm recording, distorted until the morning\\nI'm flowing, it's kinda hard when you mourning\\nDon't disregard it, you're with me forever, promise you\\nMemories never tarnish, the second I heard you calling\\nTime I thought we have more of\\nLife reminds you seconds that we got are always going\\nAll is unimportant when you lose someone important\\nCannot render thoughts, let alone the words to export them\\n\\n[Hook 2]\\nCan you stand the rain?\\nNew Edition, like the calendar say '88\\nMatte black trench coat with the razor straight\\nMake ya drop and give me 20 like Major Payne\\nNow they signing off to majors for the lamest chains\\nTrying to justify it like it's always been the dream\\nThey go with the scheme, I evolve with my team\\nNo label attached, no strings on me, can you?\\n\\n\"\n"
          ]
        }
      ],
      "source": [
        "import json\n",
        "\n",
        "def read_songs_from_file(filename):\n",
        "    data_list = []\n",
        "    with open(filename, 'r') as file:\n",
        "        for line in file:\n",
        "            data_list.append(json.loads(line))\n",
        "    return data_list\n",
        "\n",
        "filename = 'lyrics_1000.jl'\n",
        "songs_list = read_songs_from_file(filename)\n",
        "\n",
        "for song in songs_list[:2]:\n",
        "    print(song['song'], repr(song['lyrics']))\n"
      ]
    },
    {
      "cell_type": "code",
      "execution_count": 3,
      "metadata": {},
      "outputs": [
        {
          "data": {
            "text/html": [
              "<div>\n",
              "<style scoped>\n",
              "    .dataframe tbody tr th:only-of-type {\n",
              "        vertical-align: middle;\n",
              "    }\n",
              "\n",
              "    .dataframe tbody tr th {\n",
              "        vertical-align: top;\n",
              "    }\n",
              "\n",
              "    .dataframe thead th {\n",
              "        text-align: right;\n",
              "    }\n",
              "</style>\n",
              "<table border=\"1\" class=\"dataframe\">\n",
              "  <thead>\n",
              "    <tr style=\"text-align: right;\">\n",
              "      <th></th>\n",
              "      <th>song</th>\n",
              "      <th>lyrics</th>\n",
              "    </tr>\n",
              "  </thead>\n",
              "  <tbody>\n",
              "    <tr>\n",
              "      <th>0</th>\n",
              "      <td>Justin-bieber-one-time-lyrics</td>\n",
              "      <td>\\n\\n[Intro]\\nMe plus you\\nI'mma tell you one t...</td>\n",
              "    </tr>\n",
              "    <tr>\n",
              "      <th>1</th>\n",
              "      <td>Bones-connectingtoserver-lyrics</td>\n",
              "      <td>\\n\\n[Hook 1]\\nCan you stand the rain?\\nNew Edi...</td>\n",
              "    </tr>\n",
              "  </tbody>\n",
              "</table>\n",
              "</div>"
            ],
            "text/plain": [
              "                              song  \\\n",
              "0    Justin-bieber-one-time-lyrics   \n",
              "1  Bones-connectingtoserver-lyrics   \n",
              "\n",
              "                                              lyrics  \n",
              "0  \\n\\n[Intro]\\nMe plus you\\nI'mma tell you one t...  \n",
              "1  \\n\\n[Hook 1]\\nCan you stand the rain?\\nNew Edi...  "
            ]
          },
          "execution_count": 3,
          "metadata": {},
          "output_type": "execute_result"
        }
      ],
      "source": [
        "import pandas as pd\n",
        "\n",
        "songs = pd.read_json('lyrics_1000.jl', lines=True)\n",
        "\n",
        "songs.head()[:2]"
      ]
    },
    {
      "cell_type": "markdown",
      "metadata": {
        "id": "ax-juuk1zLuw"
      },
      "source": [
        "Now that you can read the documents, let's move on to tokenization. We are going to simplify things for you:\n",
        "1. You should **lowercase** all words.\n",
        "2. Remove song structure indicators.\n",
        "(**strings in square brackets**, e.g., [Verse 1: Mike Shinoda & Chester Bennington])\n",
        "3. Replace line breaks (e.g., \\n, \\n\\n), punctuations, and special characters (\\u2019, \\u2005, etc.) with empty space (\" \").\n",
        "4. Tokenize the documents by splitting on whitespace.\n",
        "5. Then only keep words that have a-zA-Z in them."
      ]
    },
    {
      "cell_type": "code",
      "execution_count": 4,
      "metadata": {
        "id": "_CpG2ifejjvx"
      },
      "outputs": [],
      "source": [
        "import re\n",
        "\n",
        "def lower_case(s):\n",
        "    return s.lower()\n",
        "\n",
        "\n",
        "songs['song'] = songs['song'].apply(lower_case)\n",
        "songs['lyrics'] = songs['lyrics'].apply(lower_case)\n",
        "songs.head()\n",
        "\n",
        "original_song_lyrics = dict() # documentID -> original song lyrics\n",
        "for documentID, lyrics in zip(songs['song'], songs['lyrics']):\n",
        "    original_song_lyrics[documentID] = lyrics\n",
        "    \n",
        "def clean_and_tokenize(text):\n",
        "    text = re.sub(r'\\[.*?\\]', ' ', text)  # Remove song structure indicators\n",
        "    text = re.sub(r'[\\n]', ' ', text)  # Replace line breaks with space\n",
        "    text = re.sub(r'[^a-zA-Z\\s]', ' ', text)  # Replace punctuations and special chars with space\n",
        "    text = re.sub(r'\\s+', \" \", text).strip()  # Normalize whitespace\n",
        "    text = text.lower()\n",
        "    tokens = text.split()  # Tokenize by splitting on whitespace\n",
        "\n",
        "    return tokens\n",
        "\n",
        "songs['lyrics'] = songs['lyrics'].apply(clean_and_tokenize)"
      ]
    },
    {
      "cell_type": "markdown",
      "metadata": {
        "id": "tst9U9DxN-Jp"
      },
      "source": [
        "## Print the first two documents after tokenizing (10 points)\n",
        "\n",
        "Once you have your parser working, you should print the first two documents (documentID and tokens).\n",
        "\n",
        "Your output should look like this:\n",
        "\n",
        "* DocumentID Tokens\n",
        "\n"
      ]
    },
    {
      "cell_type": "code",
      "execution_count": 5,
      "metadata": {
        "id": "WcJbBEQgJUd8"
      },
      "outputs": [
        {
          "name": "stdout",
          "output_type": "stream",
          "text": [
            "justin-bieber-one-time-lyrics\t['me', 'plus', 'you', 'i', 'mma', 'tell', 'you', 'one', 'time', 'me', 'plus', 'you', 'one', 'time', 'i', 'mma', 'tell', 'you', 'one', 'time', 'me', 'plus', 'you', 'one', 'time', 'i', 'mma', 'tell', 'you', 'one', 'time', 'one', 'time', 'one', 'time', 'when', 'i', 'met', 'you', 'girl', 'my', 'heart', 'went', 'knock', 'knock', 'now', 'them', 'butterflies', 'in', 'my', 'stomach', 'won', 't', 'stop', 'stop', 'and', 'even', 'though', 'it', 's', 'a', 'struggle', 'love', 'is', 'all', 'we', 'got', 'so', 'we', 'gon', 'keep', 'keep', 'climbing', 'to', 'the', 'mountain', 'top', 'your', 'world', 'is', 'my', 'world', 'and', 'my', 'fight', 'is', 'your', 'fight', 'and', 'my', 'breath', 'is', 'your', 'breath', 'when', 'you', 're', 'hurt', 'i', 'm', 'not', 'right', 'and', 'girl', 'you', 're', 'my', 'one', 'love', 'my', 'one', 'heart', 'my', 'one', 'life', 'for', 'sure', 'let', 'me', 'tell', 'you', 'one', 'time', 'girl', 'i', 'love', 'girl', 'i', 'love', 'you', 'i', 'mma', 'tell', 'you', 'one', 'time', 'girl', 'i', 'love', 'girl', 'i', 'love', 'you', 'and', 'i', 'mma', 'be', 'your', 'one', 'guy', 'you', 'll', 'be', 'my', 'number', 'one', 'girl', 'always', 'making', 'time', 'for', 'you', 'i', 'mma', 'tell', 'you', 'one', 'time', 'girl', 'i', 'love', 'girl', 'i', 'love', 'you', 'i', 'mma', 'tell', 'you', 'one', 'time', 'girl', 'i', 'love', 'girl', 'i', 'love', 'you', 'your', 'love', 's', 'so', 'deep', 'you', 'know', 'that', 'it', 'humbles', 'me', 'you', 're', 'by', 'my', 'side', 'them', 'troubles', 'them', 'not', 'trouble', 'me', 'many', 'have', 'called', 'but', 'the', 'chosen', 'is', 'you', 'whatever', 'you', 'want', 'shawty', 'i', 'll', 'give', 'it', 'to', 'you', 'your', 'world', 'is', 'my', 'world', 'and', 'my', 'fight', 'is', 'your', 'fight', 'and', 'my', 'breath', 'is', 'your', 'breath', 'when', 'you', 're', 'hurt', 'i', 'm', 'not', 'right', 'and', 'girl', 'you', 're', 'my', 'one', 'love', 'my', 'one', 'heart', 'my', 'one', 'life', 'for', 'sure', 'let', 'me', 'tell', 'you', 'one', 'time', 'girl', 'i', 'love', 'girl', 'i', 'love', 'you', 'i', 'mma', 'tell', 'you', 'one', 'time', 'girl', 'i', 'love', 'girl', 'i', 'love', 'you', 'and', 'i', 'mma', 'be', 'your', 'one', 'guy', 'you', 'll', 'be', 'my', 'number', 'one', 'girl', 'always', 'making', 'time', 'for', 'you', 'i', 'mma', 'tell', 'you', 'one', 'time', 'girl', 'i', 'love', 'girl', 'i', 'love', 'you', 'i', 'mma', 'tell', 'you', 'one', 'time', 'girl', 'i', 'love', 'girl', 'i', 'love', 'you', 'shawty', 'right', 'there', 'she', 's', 'got', 'everything', 'i', 'need', 'and', 'i', 'mma', 'tell', 'her', 'one', 'time', 'one', 'time', 'one', 'time', 'give', 'you', 'everything', 'you', 'need', 'down', 'to', 'my', 'last', 'dime', 'she', 'makes', 'me', 'happy', 'i', 'know', 'where', 'i', 'll', 'be', 'right', 'by', 'your', 'side', 'cause', 'she', 'is', 'the', 'one', 'for', 'me', 'yeah', 'and', 'girl', 'you', 're', 'my', 'one', 'love', 'my', 'one', 'heart', 'my', 'one', 'life', 'for', 'sure', 'let', 'me', 'tell', 'you', 'one', 'time', 'girl', 'i', 'love', 'girl', 'i', 'love', 'you', 'i', 'mma', 'tell', 'you', 'one', 'time', 'girl', 'i', 'love', 'girl', 'i', 'love', 'you', 'and', 'i', 'mma', 'be', 'your', 'one', 'guy', 'you', 'll', 'be', 'my', 'number', 'one', 'girl', 'always', 'making', 'time', 'for', 'you', 'i', 'mma', 'tell', 'you', 'one', 'time', 'girl', 'i', 'love', 'girl', 'i', 'love', 'you', 'i', 'mma', 'tell', 'you', 'one', 'time', 'girl', 'i', 'love', 'girl', 'i', 'love', 'you', 'me', 'plus', 'you', 'i', 'mma', 'tell', 'you', 'one', 'time', 'me', 'plus', 'you', 'i', 'mma', 'tell', 'you', 'one', 'time', 'me', 'plus', 'you', 'i', 'mma', 'tell', 'you', 'one', 'time', 'one', 'time', 'one', 'time']\n",
            "\n",
            "bones-connectingtoserver-lyrics\t['can', 'you', 'stand', 'the', 'rain', 'new', 'edition', 'like', 'the', 'calendar', 'say', 'matte', 'black', 'trench', 'coat', 'with', 'the', 'razor', 'straight', 'make', 'ya', 'drop', 'and', 'give', 'me', 'like', 'major', 'payne', 'now', 'they', 'signing', 'off', 'to', 'majors', 'for', 'the', 'lamest', 'change', 'trying', 'to', 'justify', 'it', 'like', 'it', 's', 'always', 'been', 'the', 'dream', 'they', 'go', 'with', 'the', 'scheme', 'i', 'evolve', 'with', 'my', 'team', 'no', 'label', 'attached', 'no', 'strings', 'on', 'me', 'can', 'you', 'can', 'you', 'stand', 'the', 'rain', 'new', 'edition', 'like', 'the', 'calendar', 'say', 'matte', 'black', 'trench', 'coat', 'with', 'the', 'razor', 'straight', 'make', 'ya', 'drop', 'and', 'give', 'me', 'like', 'major', 'payne', 'ever', 'since', 'we', 'came', 'up', 'don', 't', 'know', 'how', 'to', 'act', 'now', 'i', 'need', 'a', 'pack', 'just', 'to', 'help', 'me', 'relax', 'ever', 'since', 'we', 'came', 'up', 'don', 't', 'know', 'how', 'to', 'act', 'looking', 'at', 'the', 'map', 'only', 'way', 'to', 'know', 'where', 'i', 'm', 'at', 'ever', 'since', 'we', 'came', 'up', 'don', 't', 'know', 'how', 'to', 'act', 'now', 'i', 'need', 'a', 'pack', 'just', 'to', 'help', 'me', 'relax', 'ever', 'since', 'we', 'came', 'up', 'don', 't', 'know', 'how', 'to', 'act', 'looking', 'at', 'the', 'map', 'only', 'way', 'to', 'know', 'where', 'i', 'm', 'at', 'what', 'what', 'close', 'the', 'doors', 'and', 'quickly', 'i', 'm', 'calling', 'order', 'i', 'm', 'swiftly', 'when', 'i', 'm', 'recording', 'distorted', 'until', 'the', 'morning', 'i', 'm', 'flowing', 'it', 's', 'kinda', 'hard', 'when', 'you', 'mourning', 'don', 't', 'disregard', 'it', 'you', 're', 'with', 'me', 'forever', 'promise', 'you', 'memories', 'never', 'tarnish', 'the', 'second', 'i', 'heard', 'you', 'calling', 'time', 'i', 'thought', 'we', 'have', 'more', 'of', 'life', 'reminds', 'you', 'seconds', 'that', 'we', 'got', 'are', 'always', 'going', 'all', 'is', 'unimportant', 'when', 'you', 'lose', 'someone', 'important', 'cannot', 'render', 'thoughts', 'let', 'alone', 'the', 'words', 'to', 'export', 'them', 'can', 'you', 'stand', 'the', 'rain', 'new', 'edition', 'like', 'the', 'calendar', 'say', 'matte', 'black', 'trench', 'coat', 'with', 'the', 'razor', 'straight', 'make', 'ya', 'drop', 'and', 'give', 'me', 'like', 'major', 'payne', 'now', 'they', 'signing', 'off', 'to', 'majors', 'for', 'the', 'lamest', 'chains', 'trying', 'to', 'justify', 'it', 'like', 'it', 's', 'always', 'been', 'the', 'dream', 'they', 'go', 'with', 'the', 'scheme', 'i', 'evolve', 'with', 'my', 'team', 'no', 'label', 'attached', 'no', 'strings', 'on', 'me', 'can', 'you']\n",
            "\n"
          ]
        }
      ],
      "source": [
        "for song, lyrics in zip(songs['song'][:2], songs['lyrics'][:2]):\n",
        "  print(song, lyrics, sep='\\t', end='\\n\\n')"
      ]
    },
    {
      "cell_type": "markdown",
      "metadata": {
        "id": "L2yVi76Ij1ys"
      },
      "source": [
        "\n",
        "## Dictionary Size \n",
        "\n",
        "\n"
      ]
    },
    {
      "cell_type": "code",
      "execution_count": 6,
      "metadata": {
        "id": "53bAA66zkI55"
      },
      "outputs": [
        {
          "name": "stdout",
          "output_type": "stream",
          "text": [
            "Unique tokens: 9166\n"
          ]
        }
      ],
      "source": [
        "dictionary = dict()\n",
        "for tokens in songs['lyrics']:\n",
        "  for word in tokens:\n",
        "    if word in dictionary:\n",
        "      dictionary[word] += 1\n",
        "    else:\n",
        "      dictionary[word] = 1\n",
        "\n",
        "unique_tokens = len(dictionary.keys())\n",
        "print('Unique tokens:', unique_tokens)"
      ]
    },
    {
      "cell_type": "markdown",
      "metadata": {
        "id": "uU928IKKkJGY"
      },
      "source": [
        "\n",
        "## Top-20 Words\n",
        "\n",
        "Print a list of the top-20 most popular words by count."
      ]
    },
    {
      "cell_type": "code",
      "execution_count": 7,
      "metadata": {
        "id": "8MS6n6oNklvf"
      },
      "outputs": [
        {
          "name": "stdout",
          "output_type": "stream",
          "text": [
            "Rank Token, Count\n",
            "1    i,      14389\n",
            "2    you,    12698\n",
            "3    the,    8042\n",
            "4    it,     5749\n",
            "5    to,     5341\n",
            "6    and,    5127\n",
            "7    me,     5003\n",
            "8    a,      4247\n",
            "9    t,      3964\n",
            "10    s,      3844\n",
            "11    my,     3599\n",
            "12    in,     3081\n",
            "13    we,     2919\n",
            "14    m,      2743\n",
            "15    that,   2573\n",
            "16    your,   2570\n",
            "17    oh,     2435\n",
            "18    know,   2313\n",
            "19    love,   2306\n",
            "20    all,    2244\n"
          ]
        }
      ],
      "source": [
        "items = list(dictionary.items())\n",
        "items.sort(key=lambda x: x[1], reverse=True)\n",
        "print('Rank Token, Count')\n",
        "space = ' '\n",
        "for i in range(20):\n",
        "  print(f'{i+1}    '+f'{items[i][0]},{(7-len(items[i][0]))*space}{items[i][1]}')"
      ]
    },
    {
      "cell_type": "markdown",
      "metadata": {
        "id": "lcrFD2F-N-Jp"
      },
      "source": [
        "# Part 2: Boolean Retrieval\n",
        "\n",
        "In this part we will build an inverted index to support Boolean retrieval.\n",
        "\n",
        "Evaluation of the below Queries:\n",
        "\n",
        "* time\n",
        "* never AND know\n",
        "* make AND sense\n",
        "* make AND sense AND NOT kid\n",
        "* never OR know"
      ]
    },
    {
      "cell_type": "code",
      "execution_count": 8,
      "metadata": {
        "collapsed": true,
        "id": "GS3Tc_kYN-Jp"
      },
      "outputs": [],
      "source": [
        "# Step1: Indexing\n",
        "# 1. Create a list of token, document ID pairs\n",
        "# 2. Create a dictionary where the keys are the tokens and the values are lists of document IDs\n",
        "# 3. For each token, add the document ID to the list in the dictionary\n",
        "\n",
        "def get_inverted_index(songs):\n",
        "    dictionary = dict() # documentID -> [token1, token2, ...]\n",
        "    inverted_index = dict() # token -> [documentID1, documentID2, ...]\n",
        "    for documentID, tokens in zip(songs['song'], songs['lyrics']):\n",
        "        dictionary[documentID] = tokens\n",
        "\n",
        "    for documentID, tokens in dictionary.items():\n",
        "        for token in tokens:\n",
        "            if token in inverted_index:\n",
        "                if documentID not in inverted_index[token]:\n",
        "                    inverted_index[token].append(documentID)\n",
        "            else:\n",
        "                inverted_index[token] = [documentID] \n",
        "    return dictionary, inverted_index   "
      ]
    },
    {
      "cell_type": "code",
      "execution_count": 9,
      "metadata": {},
      "outputs": [],
      "source": [
        "import ast\n",
        "\n",
        "def evaluate_ast(node, inverted_index, universal_set):\n",
        "    if isinstance(node, ast.BoolOp):\n",
        "        if isinstance(node.op, ast.And):\n",
        "            # Using set intersection for 'and'\n",
        "            return set.intersection(*[evaluate_ast(value, inverted_index, universal_set) for value in node.values])\n",
        "        elif isinstance(node.op, ast.Or):\n",
        "            # Using set union for 'or'\n",
        "            return set.union(*[evaluate_ast(value, inverted_index, universal_set) for value in node.values])\n",
        "    elif isinstance(node, ast.UnaryOp) and isinstance(node.op, ast.Not):\n",
        "        # Set difference for 'not'\n",
        "        return universal_set - evaluate_ast(node.operand, inverted_index, universal_set)\n",
        "    elif isinstance(node, ast.Name):\n",
        "        # Return the set from the inverted index or an empty set\n",
        "        return set(inverted_index.get(node.id, set()))\n",
        "    else:\n",
        "        raise ValueError(\"Unsupported expression type\")"
      ]
    },
    {
      "cell_type": "code",
      "execution_count": 10,
      "metadata": {},
      "outputs": [],
      "source": [
        "def boolean_search(query, inverted_index, dictionary):\n",
        "    # tokenize and clean the query like we did with the lyrics\n",
        "    tokens = clean_and_tokenize(query)\n",
        "    result = set()\n",
        "    compatible_query = \" \".join(tokens)\n",
        "    # Using Abstract Syntax Tree(AST) in python to parse the query into a tree and evaluate the expression to the result\n",
        "    # The operators are 'AND', 'OR', 'NOT'\n",
        "    # The operands are the tokens\n",
        "    tree = ast.parse(compatible_query, mode='eval')\n",
        "    universal_set = set(dictionary.keys())\n",
        "    result = evaluate_ast(tree.body, inverted_index, universal_set)\n",
        "    result_list = [(documentID, original_song_lyrics[documentID]) for documentID in result]\n",
        "    result_list.sort(key = lambda x: x[0])\n",
        "    print(\"Number of Results: \", len(result_list))\n",
        "    return result_list[:5]"
      ]
    },
    {
      "cell_type": "markdown",
      "metadata": {
        "id": "OsA7pR87LnE3"
      },
      "source": [
        "Now show the results for the query: `time`"
      ]
    },
    {
      "cell_type": "markdown",
      "metadata": {
        "id": "82YUVPUknOjX"
      },
      "source": [
        "### Running the five queries"
      ]
    },
    {
      "cell_type": "code",
      "execution_count": 11,
      "metadata": {
        "collapsed": true,
        "id": "qWH8h5ZkN-Jp"
      },
      "outputs": [
        {
          "name": "stdout",
          "output_type": "stream",
          "text": [
            "Number of Results:  341\n",
            "Top 5:\n",
            "2pac-intro-lyrics \"\\n\\n[male reporter]\\nat 12:25 am wednesday, 2pac was on his way into a time square building to record at an eight-floor studio with another rapper. but in the lobby, shakur was shot several times, including two graze wounds to the head. 2pac's lawyers said the attack appeared to be a setup\\n\\n[female reporter]\\nagainst doctors orders, 2pac shakur checked himself out of the hospital less than 24 hours after being shot 5 times on the way into a manhattan recording studio\\n\\n[male reporter]\\n2pac shakur secures one clean legal victory this year, as he's dismissed of assault charges brought against him when he allegedly shot at two off-duty atlantic cops on halloween last year. the case was dismissed due to insufficient evidence\\n\\n[male reporter]\\nmore controvery surrounding 2pac shakur ...\\n\\n[female reporter]\\nmeanwhile, in 2pac news, at about 6:45 tonight, shakur may have lowered his own chances of surviving the attack by checking himself out of the hospital that probably saved his life\\n\\n[male reporter]\\n2pac shakur checked into the metropolitan hospital yesterday under an assumed name. his lawyers said that he had connections, but wouldn't say what kind, that could provide top notch security for the injured rap star\\n\\n[female reporter]\\nshakur underwent surgery today ...\\n\\n[male reporter]\\nthe shooting of 2pac shakur here in new york city once again underscores the violence that has surrounded this man since he shot to superstardom in the world of music and entertainment\\n\\n\"\n",
            "2pac-the-eternal-lament-poem-annotated \"\\n\\nfrom my mind 2 the depths of my soul\\ni yearn 2 achieve all of my goals\\nand all of my free time will be spent\\non the 1's i miss i will lament\\n\\ni am not a perfectionist\\nbut still i seek perfection\\ni am not a great romantic\\nbut yet i yearn 4 affection\\n\\neternally my mind will produce\\nways 2 put my talents 2 use\\nand when i'm done no matter where i've been\\ni'll yearn 2 do it all again.\\n\\n\"\n",
            "5-seconds-of-summer-dont-stop-lyrics \"\\n\\n[verse 1: luke]\\nyou're like perfection, some kind of holiday\\nyou got me thinking that we could run away\\nyou want, i’ll take you there\\nyou tell me when and where, oh-oh, oh, oh\\n\\n[pre-chorus: luke]\\nbut then i asked for your number, said you don’t have a phone\\nit’s getting late now, i gotta let you know\\nthat everybody wants to take you home tonight\\nbut i’m gonna find a way to make you mine\\n\\n[chorus: all]\\ndon’t stop doing what you’re doing\\nevery time you move to the beat\\nit gets harder for me\\nand you know it, know it, know it\\nand don’t stop 'cause you know that i like it\\nevery time you walk in the room\\nyou got all eyes on you\\nand you know it, know it, know it\\n\\n[verse 2: calum]\\nyou're coming close now, swear i can taste it\\nyou got me tongue-tied, i can't escape it\\ni’m loving what you got\\nbut then you push me off, oh-oh, oh, oh\\n\\n[pre-chorus: calum]\\nand everybody wants to take you home tonight\\nbut i’m gonna find a way to make you mine\\n\\n[chorus: all]\\ndon’t stop doing what you’re doing\\nevery time you move to the beat\\nit gets harder for me\\nand you know it, know it, know it\\nand don’t stop 'cause you know that i like it\\nevery time you walk in the room\\nyou got all eyes on you\\nand you know it, know it, know it\\n\\n[bridge: michael & luke]\\nevery day it’s the same\\nall the games that you play\\nback and forth, round and round\\nkinda like it this way\\ndon’t stop doing what you’re doing\\n'cause everytime you move to the beat\\nit gets harder for me\\nand you know it, know it, know it\\n\\n[chorus: all & ashton & michael]\\ndon’t stop 'cause you know that i like it\\nevery time you walk in the room\\nyou got all eyes on you\\nand you know it, know it, know it, know it\\ndon’t stop\\ndon’t stop, stop what you’re doing\\ndoing what you're doing\\n'cause you know that, you know that i like it\\neverytime you move to the beat\\nit gets harder for me\\nand you know it, know it, know it\\nand don’t stop 'cause you know that i like it\\nyou know that i like it\\nevery time you walk in the room\\nyou got all eyes on you\\nand you know it, know it, know it\\n\\n\"\n",
            "5-seconds-of-summer-everything-i-didnt-say-lyrics \"\\n\\n[intro: calum]\\noh, oh, oh, oh, oh, oh\\noh, oh, oh, oh, oh\\noh, oh, oh, oh, oh, oh, oh\\nthis is everything i didn't say\\n\\n[verse 1: calum]\\nwait, don’t tell me heaven is a place on earth\\ni wish i could rewind all the times that i didn’t show you what you’re really worth\\nthe way you held me, i wish that i had put you first\\ni was wrong i admit, numb from your kiss\\nwhile you were slipping through my fingertips\\n\\n[chorus: all & calum]\\ntaking every breath away\\nwith all of the mistakes i’ve made\\nfrom all the letters that i’ve saved\\nthis is everything i didn’t say\\ni wish i could’ve made you stay\\nand i’m the only one to blame\\ni know that it’s a little too late\\nthis is everything i didn’t say\\noh, oh, oh, oh, oh, oh\\noh, oh, oh, oh, oh, oh\\nthis is everything i didn’t say\\n\\n[verse 2: luke]\\nwake me up now and tell me this is all a bad dream\\nall the songs that i wrote\\nall the wrongs that i hoped\\nwould erase from your memory\\nholding onto a broken and empty heart\\nflowers i should’ve bought\\nall the hours i lost\\nwish i could bring it back to the start\\n\\n[chorus: all & calum]\\ntaking every breath away\\nwith all of the mistakes i’ve made\\nfrom all the letters that i’ve saved\\nthis is everything i didn't say\\ni wish i could make you stay\\nand i'm the only one to blame\\ni know that it's a little to late\\nthis is everything i didn't say\\n\\n[bridge: michael]\\ni hope you know for you i’d sacrifice\\nto make this right\\nwoah, oh, oh\\nwoah, oh, oh\\nsome day i’m sure we’ll pass each other by\\nuntil that time\\n\\n[chorus: all & calum]\\ntaking every breath away\\nwith all of the mistakes i’ve made\\nfrom all the letters that i’ve saved\\nthis is everything i didn’t say\\ni wish i could’ve made you stay\\nand i’m the only one to blame\\ni know that it’s a little too late\\nthis is everything i didn’t say\\noh, oh, oh, oh, oh, oh\\noh, oh, oh, oh, oh\\noh, oh, oh, oh, oh, oh, oh\\nthis is everything i didn't say\\noh, oh, oh, oh, oh, oh\\noh, oh, oh, oh, oh\\noh, oh, oh, oh, oh, oh, oh\\n\\n\"\n",
            "5-seconds-of-summer-good-girls-lyrics '\\n\\n[verse 1: michael]\\nshe\\'s a good girl, she\\'s daddy\\'s favourite\\nhe\\'s saved for harvard, he knows she\\'ll make it\\nshe\\'s good at school, she\\'s never truant\\nshe can speak french, i think she\\'s fluent\\n\\n[pre-chorus: calum & michael]\\n\\'cause every night she studies hard in her room\\nat least that’s what her parents assume\\nbut she sneaks out the window to meet with her boyfriend\\nhere\\'s what she told me the time that i caught them\\n\\n[chorus: all & luke]\\nshe said to me, \"forget what you thought\"\\n\\'cause good girls are bad girls that haven’t been caught\\nso just turn around and forget what you saw\\n\\'cause good girls are bad girls that haven’t been caught\\ngood girls are bad girls that haven’t been caught\\ngood girls are bad girls that haven’t been caught\\n\\n[verse 2: calum & michael]\\nshe\\'s a good girl, a straight a-student\\nshe\\'s really into all that self-improvement\\ni swear she lives in that library\\nbut if you ask her she\\'ll say, \"that\\'s where you\\'ll find me\"\\n\\n[pre-chorus: luke & michael]\\nbut if you look then you won’t find her there\\nshe may be clever but she just acts too square\\n\\'cause in the back of the room where nobody looks\\nshe’ll be with her boyfriend\\nshe’s not reading books\\n\\n[chorus: all & luke]\\nshe said to me, \"forget what you thought\"\\n\\'cause good girls are bad girls that haven’t been caught\\nso just turn around and forget what you saw\\n\\'cause good girls are bad girls that haven’t been caught\\ngood girls are bad girls and good girls are bad girls\\ngood girls are bad girls and good girls are bad girls\\n\\n[bridge: ashton]\\nshe’s a good girl, hasn’t been caught\\nshe’s a good girl, hasn’t been caught\\n\\n[chorus: all]\\nshe said to me, \"forget what you thought\"\\n\\'cause good girls are bad girls that haven’t been caught\\nso just turn around and forget what you saw\\n\\'cause good girls are bad girls that haven’t been caught\\n\\n[outro: luke]\\ngood girls are bad girls that haven’t been caught\\ngood girls are bad girls that haven’t been caught\\ngood girls are bad girls that haven’t been caught\\n\\n'\n"
          ]
        }
      ],
      "source": [
        "# search for the input using your index and print out ids of matching documents.\n",
        "dictionary,inverted_index = get_inverted_index(songs)\n",
        "result = boolean_search('time',inverted_index, dictionary)\n",
        "print(\"Top 5:\")\n",
        "for documentID, lyrics in result:\n",
        "    print(documentID + \" \"+ repr(lyrics))  "
      ]
    },
    {
      "cell_type": "markdown",
      "metadata": {
        "id": "SbJ6yn3yMQWY"
      },
      "source": [
        "Now show the results for the query: `never AND know`\n",
        "\n",
        "---\n",
        "\n",
        "\n"
      ]
    },
    {
      "cell_type": "code",
      "execution_count": 12,
      "metadata": {
        "id": "SmF62rQ_MRlO"
      },
      "outputs": [
        {
          "name": "stdout",
          "output_type": "stream",
          "text": [
            "Number of Results:  179\n",
            "Top 5:\n",
            "5-seconds-of-summer-broken-pieces-lyrics \"\\n\\n[verse 1: calum]\\ni woke up in the place we started\\nyour clothes on the floor in that old apartment\\ni never thought you'd leave without a trace\\ni can't shake this sinking feeling\\ni know you're not there and i'm barely breathing\\nholding onto things i can't replace\\n\\n[pre-chorus: calum]\\ni'm looking for a way to change my mind and walk away\\n\\n[chorus: all]\\noh, tell me what we're fighting for\\nit's turning to an all-out war\\ni'll find a way to fix these broken pieces\\nand let go\\ni'm tryna find a way back home\\nif it takes until i'm skin and bones\\ni'll find a way to fix these broken pieces\\nand let go\\n\\n[verse 2: luke & michael]\\nour last words ringing in my head\\ni wish we'd take back all the things we said\\ni'm tryna find a way to yesterday\\ntalking in circles and chasing our tails\\nand wondering why we created this wasteland\\ni wish you wouldn't be so cavalier\\n\\n[pre-chorus: luke]\\ni'm looking for a way to change my mind and walk away\\n\\n[chorus: all]\\noh, tell me what we're fighting for\\nit's turning to an all-out war\\ni'll find a way to fix these broken pieces\\nand let go\\ni'm tryna find a way back home\\nif it takes until i'm skin and bones\\ni'll find a way to fix these broken pieces\\nand let go, let go, let go\\nfix these broken pieces and let go\\n\\n[bridge: michael & ashton]\\nwe're fading out, we're all alone\\nit's what you wanted, i suppose\\ni can tell you feel the same\\nwhen you say you're looking for a way to change your mind and walk away\\noh, tell me what we're fighting for\\nit's turning to an all-out war\\nwe'll find a way to fix these broken pieces\\n\\n[chorus: all]\\noh, tell me what we're fighting for\\nit's turning to an all-out war\\ni'll find a way to fix these broken pieces\\nand let go\\ni'm tryna find a way back home\\nif it takes until i'm skin and bones\\ni'll find a way to fix these broken pieces\\nand let go, let go, let go\\nfix these broken pieces and let go\\n\\n\"\n",
            "5-seconds-of-summer-heartbreak-girl-lyrics '\\n\\n[verse 1: calum]\\nyou call me up, it\\'s like a broken record\\nsaying that your heart hurts\\nthat you\\'d never get over him getting over you\\nand you end up crying\\nand i end up lying\\n\\'cause i\\'m just a sucker for anything that you do\\n\\n[pre-chorus: luke]\\nand when then phone call finally ends\\nyou say \"thanks for being a friend\"\\nand we\\'re going in circles again and again\\n\\n[chorus: all]\\ni dedicate this song to you\\nthe one who never sees the truth\\nthat i can take away your hurt\\nheartbreak girl\\nhold you tight straight through the daylight\\ni\\'m right here, when you gonna realise\\nthat i\\'m your cure?\\nheartbreak girl\\n\\n[verse 2: calum]\\ni bite my tongue but i wanna scream out\\nyou could be with me now\\nbut i end up telling you what you want to hear\\nbut you\\'re not ready\\nand it\\'s so frustrating\\nhe treats you so bad and i\\'m so good to you, it\\'s not fair\\n\\n[pre-chorus: luke]\\nand when the phone call finally ends\\nyou say i\\'ll call you tomorrow at 10\\nand i\\'m stuck in the friend zone again and again\\n\\n[chorus: all]\\ni dedicate this song to you\\nthe one who never sees the truth\\nthat i can take away your hurt\\nheartbreak girl\\nhold you tight straight through the daylight\\ni\\'m right here, when you gonna realise\\nthat i\\'m your cure?\\nheartbreak girl\\n\\n[bridge: luke & calum]\\ni know someday it\\'s gonna happen\\nand you\\'ll finally forget the day you met him\\nsometimes i\\'m so close to confession\\ni gotta get it through your head\\nthat you belong with me instead\\n\\n[chorus: all]\\ni dedicate this song to you\\nthe one who never sees the truth\\nthat i can take away your hurt\\nheartbreak girl\\nhold you tight straight through the daylight\\ni\\'m right here, when you gonna realise\\nthat i\\'m your cure?\\nheartbreak girl\\n\\ni dedicate this song to you\\nthe one who never sees the truth\\nthat i can take away your hurt\\nheartbreak girl\\nhold you tight straight through the daylight\\ni\\'m right here, when you gonna realise\\nthat i\\'m your cure?\\nheartbreak girl\\n\\n'\n",
            "5-seconds-of-summer-voodoo-doll-lyrics \"\\n\\n[verse 1: luke]\\ni don't even like you\\nwhy'd you want to go and make me feel this way? (what?)\\ni don't understand what's happened\\ni keep saying things i never say\\n\\n[pre-chorus: michael]\\ni can feel you watching\\neven when you're nowhere to be seen\\ni can feel you touching\\neven when you're far away from me\\n\\n[chorus: calum]\\ntell me where you're hiding your voodoo doll\\n'cause i can't control myself\\ni don't wanna stay, i wanna run away\\nbut i'm trapped under your spell\\nand it hurts in my head and my heart and my chest\\nand i'm having trouble catching my breath\\nooh, ooh\\nwon't you please stop loving me to death?\\n\\n[verse 2: luke]\\ni don't even see my friends no more\\n'cause i keep hanging out with you\\ni don't know how you kept me up all night\\nor how i got this tattoo\\n\\n[pre-chorus: michael]\\ni can feel you watching\\neven when you're nowhere to be seen\\nand i can feel you touching\\neven when you're far away from me\\n\\n[chorus: calum]\\ntell me where you're hiding your voodoo doll\\n'cause i can't control myself\\ni don't wanna stay, i wanna run away\\nbut i'm trapped under your spell\\nand it hurts in my head and my heart and my chest\\nand i'm having trouble catching my breath\\nooh, ooh\\nwon't you please stop loving me to death?\\n\\n[bridge: luke]\\nevery time you're near me\\nsuddenly my heart begins to race\\nevery time i leave\\ni don't know why my heart begins to break\\n\\n[chorus: calum]\\ntell me where you're hiding your voodoo doll\\n'cause i can't control myself\\ni don't wanna stay, i wanna run away\\nbut i'm trapped under your spell\\nand it hurts in my head and my heart and my chest\\nand i'm having trouble catching my breath\\nooh, ooh\\nwon't you please stop loving me to death?\\n\\n\"\n",
            "adele-sweetest-devotion-lyrics \"\\n\\n[intro]\\n\\n[verse 1]\\nwith your loving, there ain't nothing that i can't adore\\nthe way i'm running with you, honey\\nmeans we can break every law\\ni find it funny that you're the only one i never looked for\\nthere is something in your loving that tears down my walls\\n\\n[pre-chorus]\\ni wasn't ready then, i'm ready now\\ni'm heading straight for you\\nyou will only be eternally\\nthe one that i belong to\\n\\n[chorus]\\nthe sweetest devotion\\nhit me like an explosion\\nall of my life, i've been frozen\\nthe sweetest devotion i know\\n\\n[verse 2]\\ni'll forever be whatever you want me to be\\ni'll go under and all over for your clarity\\nwhen you wonder if i'm gonna lose my way home\\njust remember, that come whatever, i'll be yours all along\\n\\n[pre-chorus]\\ni wasn't ready then, i'm ready now\\ni'm heading straight for you\\nyou will only be eternally\\nthe one that i belong to\\n\\n[chorus]\\nthe sweetest devotion\\nhit me like an explosion\\nall of my life, i've been frozen\\nthe sweetest devotion i know\\n\\n[bridge]\\ni've been looking for you, baby\\nin every face that i've ever known\\nand there is something 'bout the way you love me\\nthat finally feels like home\\nyou're my light, you're my darkness\\nyou're the right kind of madness\\nyou're my hope, you're my despair\\nyou're my scope of everything, everywhere\\n\\n[chorus]\\nthe sweetest devotion\\nhit me like an explosion\\nall of my life, i've been frozen\\nthe sweetest devotion i know\\n\\n[outro]\\nsweetest, it's the sweetest\\nsweetest, it's the sweetest\\nsweetest, it's the sweetest\\nsweetest, it's the sweetest devotion\\n\\n\"\n",
            "akon-dont-matter-lyrics \"\\n\\n[intro]\\nkonvict\\noh, oh-whoa-oh-oh\\noh, oh-whoa-oh-oh\\n\\n[hook]\\nnobody wanna see us together\\nbut it don't matter, no ('cause i got you, babe)\\nnobody wanna see us together\\nbut it don't matter, no ('cause i got you, babe)\\n'cause we gon' fight\\noh, yes, we gon' fight\\nbelieve we gon' fight\\nfight for our right to love, yeah\\nnobody wanna see us together\\nbut it don't matter, no ('cause i got you, babe)\\n\\n[verse 1]\\nnobody wanna see us together\\nnobody thought we'd last forever\\ni feel i'm hopin' and prayin'\\nthings between us gon' get better\\nmen steady comin' after you\\nwomen steady comin' after me\\nseems like everybody wanna go for self\\nand don't wanna respect boundaries\\ntellin' you all those lies\\njust to get on yo' side\\nbut i must admit there was a couple secrets i held inside\\njust know that i try to always apologize\\nbut i'ma have you first, always in my heart to keep you satisfied\\n\\n[hook]\\nnobody wanna see us together\\nbut it don't matter, no ('cause i got you, babe)\\nnobody wanna see us together\\nbut it don't matter, no ('cause i got you, babe)\\n'cause we gon' fight\\noh, yes, we gon' fight\\nbelieve we gon' fight\\nfight for our right to love, yeah\\nnobody wanna see us together\\nbut it don't matter, no ('cause i got you, babe)\\n\\n[verse 2]\\ngot every right to wanna leave\\ngot every right to wanna go\\ngot every right to hit the road\\nand never talk to me no mo'\\nyou don't even have to call\\neven check for me at all\\n'cause the way i've been actin' lately has been off the wall\\nespecially towards you\\nputtin' girls before you\\nand they watchin' everything i been doin' just to hurt you\\nmost of it just ain't true\\nand they won't show you\\nhow much of a queen you are to me\\nand why i love you, baby\\n\\n[hook]\\nnobody wanna see us together\\nbut it don't matter, no ('cause i got you, babe)\\nnobody wanna see us together\\nbut it don't matter, no ('cause i got you, babe)\\n'cause we gon' fight\\noh, yes, we gon' fight\\nbelieve we gon' fight\\nfight for our right to love, yeah\\nnobody wanna see us together\\nbut it don't matter, no ('cause i got you, babe)\\n\\n[bridge]\\noh, oh-whoa-oh-oh\\n'cause i got you, babe\\noh, oh-whoa-oh-oh\\n'cause i got you, babe\\n'cause i got you, babe\\n'cause i got you, babe\\n\\n[hook]\\nnobody wanna see us together\\nbut it don't matter, no ('cause i got you, babe)\\nnobody wanna see us together\\nbut it don't matter, no ('cause i got you, babe)\\n'cause we gon' fight\\noh, yes, we gon' fight\\nbelieve we gon' fight\\nfight for our right to love, yeah\\nnobody wanna see us together\\nbut it don't matter, no ('cause i got you, babe)\\n\\n\"\n"
          ]
        }
      ],
      "source": [
        "# your code here\n",
        "result = boolean_search('never AND know',inverted_index, dictionary)\n",
        "print(\"Top 5:\")\n",
        "for documentID, lyrics in result:\n",
        "    print(documentID + \" \"+ repr(lyrics))  "
      ]
    },
    {
      "cell_type": "markdown",
      "metadata": {
        "id": "y8KlaH0fMTO5"
      },
      "source": [
        "Now show the results for the query: `make AND sense`"
      ]
    },
    {
      "cell_type": "code",
      "execution_count": 13,
      "metadata": {
        "id": "MAFBtPGmMVRW"
      },
      "outputs": [
        {
          "name": "stdout",
          "output_type": "stream",
          "text": [
            "Number of Results:  4\n",
            "Top 5:\n",
            "genius-how-to-annotate-and-edit-on-genius-annotated '\\n\\n✧ a genius annotation is a note that explains the deeper meaning behind lyrics. there are a few different kinds of annotations:\\n\\n\\nlyric annotations -> click here for an example\\n\\n\\nbios -> click here for an example\\n\\n\\ncover art annotations -> click here for an example\\n\\nyou can also contribute to existing annotations:\\n\\n\\nsuggestions -> click here for an example\\n\\n\\nproposed edits -> click here for an example\\n\\n✧ here are the rules you should always follow when annotating:\\n\\n\\ndon\\'t restate the lyric -> click here to learn more\\n\\n\\nwrite like a human -> click here to learn more\\n\\n\\nwatch grammar & spelling -> click here to learn more\\n\\n\\ndo research & hyperlink sources -> click here to learn more\\n\\n\\nhighlight all relevant lyrics -> click here to learn more\\n\\n\\nmaster formatting -> click here to learn more\\n\\n\\ninclude media that adds depth -> click here to learn more\\n\\n\\nbe objective -> click here to learn more\\n\\n\\nbe concise & specific -> click here to learn more\\n\\n\\nbe evergreen -> click here to learn more\\n\\n✧ here are some more nuanced practices you can follow to make sure your annotations are always great:\\n\\nuse the active voice: sentences in the active voice are structured so the subject performs the action stated by the verb. active voice is generally easier to understand. -> click here to learn more\\n\\nuse primary sources: wikipedia and other encyclopedic sources are great places to learn, but shouldn\\'t be hyperlinked in annotations unless it\\'s absolutely necessary.  never link urban dictionary. -> click here to learn more\\n\\norder by importance: the most important information should go at the beginning of the annotation. save images, gifs, and videos for the middle or the end, and never start an annotation with a quote. -> click here to learn more\\n\\navoid hiding info behind links: don\\'t force your readers to go hunting for the sauce. sauce it up in the annotation and allow your links to complement what you wrote. -> click here to learn more\\n\\nonly quote the best stuff: quote what artists have said, not what others have written about them. cut quotes to the parts that make the most sense for your annotation. -> click here to learn more\\n\\nline-level vs. song-level: info pertinent to specific lyrics should go in annotations on the relevant lines, and info about the entire song should go in the song bio or q&a. annotations on section headers are only rarely appropriate. -> click here to learn more\\neditors use the annotation commandments to decide whether an annotation should be accepted and edited to become an official \"genius annotation,\" or rejected if it doesn\\'t match our editorial standards. click here to learn about earning the editor role.\\n\\n✧ here are the basics of editing:\\n\\naccepting & editing: you have to accept an annotation first before you edit it. edits can range from fixing typos to overhauling the whole thing, but the goal is to make improvements. you\\'ll get contribution credit based on how much of the annotation you change. -> click here to learn more\\n\\nrejecting: to reject an annotation, you have to select one of three main reasons: \"restating the line,\" \"it\\'s a stretch,\" or \"missing something.\" selecting \"other\" requires you to leave a note briefly explaining your rejection. -> click here to learn more\\n\\nintegrating & archiving: you can integrate or archive suggestions and proposed edits that other users leave on annotations. integrating brings the user\\'s suggestion into the annotation and gives them contribution credit based on how much of the annotation they change. archiving removes the suggestion from the annotation. -> click here to learn more\\n\\ndeleting: it\\'s sometimes necessary to delete annotations previously accepted by other editors if they\\'re not up to standard. you\\'ll also need to delete annotations if you\\'re accepting and deleting a lyric correction annotation. -> click here to learn more\\n\\nchanging the referent: click the \"edit lyrics\" button and copy-paste the corresponding annotation id to change the referent. changing the referent can ensure the annotation covers all repeated lyrics, or covers adjacent lines that closely relate to the annotation\\'s main idea. -> click here to learn more\\n✧ here are some more complicated tools and tricks for editors:\\n\\nmerging annotations: to merge two annotations, copy the contents of the first annotation, integrate the info you copied into the second annotation, delete the first annotation, and adjust the referent. -> click here to learn more\\n\\nresearch methods: the citations at the bottom of wikipedia articles and google books samples are goldmines. replace boring links and lackluster sentiments with relevant and unique info that enhances the annotation.  -> click here to learn more\\n\\nfact-checking & avoiding bias: be conscious about problematic lyrics or sensitive information. if an annotation states something definitively that hasn\\'t yet been confirmed, tweak the language to be accurate, objective, and analytical. -> click here to learn more\\n\\nrefining language: no matter how well-written an annotation is, it can always be improved. brush up on your grammar skills and be meticulous about word choice, structure, organization, and expression. -> click here to learn more\\n\\npushing the boundaries: there are fringe scenarios where unorthodox annotation styles work, and that\\'s how annotation culture evolves. don\\'t be afraid to experiment, as long as you\\'re saying something interesting and don\\'t violate the editorial standards. -> click here to learn more\\n✧ tate talks are forum posts about annotation culture. they act both as resources and as centers of discussion for specific elements of annotating & editing. if you\\'re interested in writing a tate talk, send @empath a message. the best tate talks will be featured below and credited to the author.\\n\\n\\nresearch & interpretation by @johnganz\\n\\n\\nstyle guide by @nietzsche\\n\\n\\nremoving filler by @dyazz\\n\\n\\nciting the bible by @calebmac116\\n\\n\\nmastering linked citation by @scopeyclaire\\n\\n\\nconnections to other works by @vinylzombie_mcr\\n\\n\\nupdating old annotations by @theonlydjorkaeff\\n\\n\\nquote etiquette by @sereinik\\n\\n\\nsong bio best practices by @babuc\\n\\n\\nstructuring annotations by @theonlydjorkaeff\\n\\n\\nannotating problematic lyrics by @epaulettes\\n\\n\\nfact-checking & avoiding bias by @empath\\n\\n\\ncontextualizing by @vesuvius\\n\\n\\nannotating multiple language songs by @roy068\\n\\n\\nrefining language by @empath\\n\\n\\nannotating artwork by @fgv & @pessoa\\n\\n✧ here are some quick definitions for terms related to annotating & editing on genius:\\n\\ntate\\neditorial standards\\nreferent\\nannotation id\\nred\\nscholars\\nintegrate\\narchive\\nrevert\\nreference\\nallusion\\nsample\\ninterpolation\\n\\n\\n'\n",
            "gorillaz-kids-with-guns-lyrics \"\\n\\n[verse 1]\\nkids with guns\\nkids with guns\\ntaking over\\nbut they won't be long\\nthey're mesmerized\\nskeletons\\n\\n[refrain 1]\\nkids with guns\\nkids with guns\\neasy does it, easy does it\\nthey got something to say no to\\n\\n[verse 2]\\ndrinking out (push it real)\\npacifier (push it real, push it)\\nvitamin souls (push it, push it real)\\nthe street desire (push it real, push it)\\ndoesn't make sense to (push it, push it real)\\nbut it won't be long (push it real, push it)\\n\\n[refrain 2]\\nkids with guns\\nkids with guns\\neasy does it, easy does it\\nthey got something to say no to\\n\\n[chorus]\\nnow they're turning us into monsters\\nturning us into fire\\nturning us into monsters\\nit's all desire, it's all desire\\nit's all desire\\n\\n[verse 3]\\ndrinking out\\npacifier\\nsinking soul\\nthere you are\\ndoesn't make side to\\nbut it won't be long\\n\\n[refrain 2]\\n‘cause kids with guns\\nkids with guns\\neasy does it, easy does it\\nthey got something to say no to\\n\\n[chorus]\\nnow they're turning us into monsters\\nturning us into fire\\nturning us into monsters\\nit's all desire, it's all desire\\nit's all desire\\n\\n[outro]\\npush it, push it, real, push it, real\\npush it, push it, push it, real, push it, real\\npush it, push it, real\\n\\n\"\n",
            "purity-ring-belispeak-ii-lyrics \"\\n\\n[intro: danny brown]\\ncheck!\\n\\n[chorus: megan james]\\ngrandma, the water is rising\\nmy boundless hair has gotten green\\ni'll be your swimming forest island\\nbid you walk safely, safely over me\\n\\n[verse 1: danny brown]\\nraised in the gutter, i ain't really had nothin'\\nno silver spoon, i was raised a rusty shovel\\ngranny used to tell me boy stay up outta trouble\\nbut the hunger in my tummy had me stayin' on my hustle\\nwhen i'm livin' in a bottle with my head all cloudy\\nstomach rumbling like a thunderstorm up in maui\\npray over me and i'm hoping that i make it\\nlike a last dollar in a slot machine in las vegas\\nneed good luck, stay trusting my gut\\nif they can't hold me down, then you hold me up\\ntrapped in the lies then, nobody i could trust\\ni'd give it all away before i give it all up\\nnow tell me have you ever ever ever in your life\\nhear something wrong and you know it wasn't right\\nnow you're up late night thinking that night\\nall along sorry, know it wasn't right\\nsame sense again, tell me would you think twice\\ni did that yesterday, put it on my life\\nonce a day passed, would a feelin' never last\\nwhile i flick away my problems with the cigarette ash\\nstayin' up late, i could never ever sleep\\nfeelin' all my hunger every time my belly speak\\nstayin' up late, i could never ever sleep\\nfeelin' all my hunger every time my belly speak\\n\\n[chorus: megan james]\\ngrandma, the water is rising\\nmy boundless hair has gotten green\\ni'll be your swimming forest island\\nbid you walk safely, safely over me\\n\\n[verse 2: megan james & danny brown]\\ngrandma my sleep is narrow\\nbid you bring me some strong drink\\nstrain out the pulps and set them close outside\\nfor when my belly\\nfor when my little belly speaks\\ngrandma, there's air beneath my bed\\nand it whispers\\nand it whispers when i rest\\nbid hem the skirts in salt and vinegar, vinegar\\nand hover closely\\nhover closely under head\\nstayin' up late, i could never ever sleep\\nfeelin' all my hunger every time my belly speak\\nstayin' up late, i could never ever sleep\\nfeelin' all my hunger every time my belly speak\\ngrandma, i've been unruly\\nin my dreams\\nand with my speech\\ndrill little holes into my eyelids\\nthat i might see you\\n\\n[chorus: megan james]\\ngrandma, the water is rising\\nmy boundless hair has gotten green\\ni'll be your swimming forest island\\nbid you walk safely, safely over me\\n\\n\"\n",
            "tame-impala-music-to-walk-home-by-lyrics \"\\n\\n[verse]\\nbut that's only while i think of you\\nsome vision that i hold on to\\nyou know it's everything i do\\nyou know it's everything i do\\n\\ncan almost stand competing with the others\\ncan almost hear the fun that i should be having\\ninstead of just dreaming\\n\\nbut it's only when i think of you\\nthe mover i could turn into\\nthere must be something i can do\\nyeah, there must be something i can do\\n\\n[chorus]\\ni just don't know how to feel right\\na beautiful girl is wasting my life\\ni'm playing a part as somebody else\\nwhile tryin' so hard to be myself\\ni just need to hear somebody say\\nthis will all make sense one day\\ni guess i'm alright, but they're all doing so well\\nwhat i wouldn't give to be under that spell\\n\\n[post-chorus]\\nyou'll know soon\\nyou'll know soon\\nyou'll know soon\\nyou'll know soon\\nyou'll know soon (yeah)\\nyou'll know soon (yeah)\\nyou'll know soon (yeah)\\n(yeah, yeah, yeah)\\n(yeah, yeah, yeah)\\n\\n[bridge]\\nbut you don't know the truth\\ni really love you\\nyou just don't believe\\nanything i do\\n\\n[chorus]\\nin so many ways i'm somebody else\\nwhile tryin' so hard to be myself\\ni just need to hear somebody say\\nthis will all make sense one day\\nwell, it's getting late i'd better go\\ni made it this far as far as i know\\n\\n\"\n"
          ]
        }
      ],
      "source": [
        "# your code here\n",
        "result = boolean_search('make AND sense',inverted_index, dictionary)\n",
        "print(\"Top 5:\")\n",
        "for documentID, lyrics in result:\n",
        "    print(documentID + \" \"+ repr(lyrics))  "
      ]
    },
    {
      "cell_type": "markdown",
      "metadata": {
        "id": "8MVcjjsBWIFv"
      },
      "source": [
        "Now show the results for the query: `make AND sense AND NOT kid`"
      ]
    },
    {
      "cell_type": "code",
      "execution_count": 14,
      "metadata": {
        "id": "3e7Ipk2JWIF5"
      },
      "outputs": [
        {
          "name": "stdout",
          "output_type": "stream",
          "text": [
            "Number of Results:  4\n",
            "Top 5:\n",
            "genius-how-to-annotate-and-edit-on-genius-annotated '\\n\\n✧ a genius annotation is a note that explains the deeper meaning behind lyrics. there are a few different kinds of annotations:\\n\\n\\nlyric annotations -> click here for an example\\n\\n\\nbios -> click here for an example\\n\\n\\ncover art annotations -> click here for an example\\n\\nyou can also contribute to existing annotations:\\n\\n\\nsuggestions -> click here for an example\\n\\n\\nproposed edits -> click here for an example\\n\\n✧ here are the rules you should always follow when annotating:\\n\\n\\ndon\\'t restate the lyric -> click here to learn more\\n\\n\\nwrite like a human -> click here to learn more\\n\\n\\nwatch grammar & spelling -> click here to learn more\\n\\n\\ndo research & hyperlink sources -> click here to learn more\\n\\n\\nhighlight all relevant lyrics -> click here to learn more\\n\\n\\nmaster formatting -> click here to learn more\\n\\n\\ninclude media that adds depth -> click here to learn more\\n\\n\\nbe objective -> click here to learn more\\n\\n\\nbe concise & specific -> click here to learn more\\n\\n\\nbe evergreen -> click here to learn more\\n\\n✧ here are some more nuanced practices you can follow to make sure your annotations are always great:\\n\\nuse the active voice: sentences in the active voice are structured so the subject performs the action stated by the verb. active voice is generally easier to understand. -> click here to learn more\\n\\nuse primary sources: wikipedia and other encyclopedic sources are great places to learn, but shouldn\\'t be hyperlinked in annotations unless it\\'s absolutely necessary.  never link urban dictionary. -> click here to learn more\\n\\norder by importance: the most important information should go at the beginning of the annotation. save images, gifs, and videos for the middle or the end, and never start an annotation with a quote. -> click here to learn more\\n\\navoid hiding info behind links: don\\'t force your readers to go hunting for the sauce. sauce it up in the annotation and allow your links to complement what you wrote. -> click here to learn more\\n\\nonly quote the best stuff: quote what artists have said, not what others have written about them. cut quotes to the parts that make the most sense for your annotation. -> click here to learn more\\n\\nline-level vs. song-level: info pertinent to specific lyrics should go in annotations on the relevant lines, and info about the entire song should go in the song bio or q&a. annotations on section headers are only rarely appropriate. -> click here to learn more\\neditors use the annotation commandments to decide whether an annotation should be accepted and edited to become an official \"genius annotation,\" or rejected if it doesn\\'t match our editorial standards. click here to learn about earning the editor role.\\n\\n✧ here are the basics of editing:\\n\\naccepting & editing: you have to accept an annotation first before you edit it. edits can range from fixing typos to overhauling the whole thing, but the goal is to make improvements. you\\'ll get contribution credit based on how much of the annotation you change. -> click here to learn more\\n\\nrejecting: to reject an annotation, you have to select one of three main reasons: \"restating the line,\" \"it\\'s a stretch,\" or \"missing something.\" selecting \"other\" requires you to leave a note briefly explaining your rejection. -> click here to learn more\\n\\nintegrating & archiving: you can integrate or archive suggestions and proposed edits that other users leave on annotations. integrating brings the user\\'s suggestion into the annotation and gives them contribution credit based on how much of the annotation they change. archiving removes the suggestion from the annotation. -> click here to learn more\\n\\ndeleting: it\\'s sometimes necessary to delete annotations previously accepted by other editors if they\\'re not up to standard. you\\'ll also need to delete annotations if you\\'re accepting and deleting a lyric correction annotation. -> click here to learn more\\n\\nchanging the referent: click the \"edit lyrics\" button and copy-paste the corresponding annotation id to change the referent. changing the referent can ensure the annotation covers all repeated lyrics, or covers adjacent lines that closely relate to the annotation\\'s main idea. -> click here to learn more\\n✧ here are some more complicated tools and tricks for editors:\\n\\nmerging annotations: to merge two annotations, copy the contents of the first annotation, integrate the info you copied into the second annotation, delete the first annotation, and adjust the referent. -> click here to learn more\\n\\nresearch methods: the citations at the bottom of wikipedia articles and google books samples are goldmines. replace boring links and lackluster sentiments with relevant and unique info that enhances the annotation.  -> click here to learn more\\n\\nfact-checking & avoiding bias: be conscious about problematic lyrics or sensitive information. if an annotation states something definitively that hasn\\'t yet been confirmed, tweak the language to be accurate, objective, and analytical. -> click here to learn more\\n\\nrefining language: no matter how well-written an annotation is, it can always be improved. brush up on your grammar skills and be meticulous about word choice, structure, organization, and expression. -> click here to learn more\\n\\npushing the boundaries: there are fringe scenarios where unorthodox annotation styles work, and that\\'s how annotation culture evolves. don\\'t be afraid to experiment, as long as you\\'re saying something interesting and don\\'t violate the editorial standards. -> click here to learn more\\n✧ tate talks are forum posts about annotation culture. they act both as resources and as centers of discussion for specific elements of annotating & editing. if you\\'re interested in writing a tate talk, send @empath a message. the best tate talks will be featured below and credited to the author.\\n\\n\\nresearch & interpretation by @johnganz\\n\\n\\nstyle guide by @nietzsche\\n\\n\\nremoving filler by @dyazz\\n\\n\\nciting the bible by @calebmac116\\n\\n\\nmastering linked citation by @scopeyclaire\\n\\n\\nconnections to other works by @vinylzombie_mcr\\n\\n\\nupdating old annotations by @theonlydjorkaeff\\n\\n\\nquote etiquette by @sereinik\\n\\n\\nsong bio best practices by @babuc\\n\\n\\nstructuring annotations by @theonlydjorkaeff\\n\\n\\nannotating problematic lyrics by @epaulettes\\n\\n\\nfact-checking & avoiding bias by @empath\\n\\n\\ncontextualizing by @vesuvius\\n\\n\\nannotating multiple language songs by @roy068\\n\\n\\nrefining language by @empath\\n\\n\\nannotating artwork by @fgv & @pessoa\\n\\n✧ here are some quick definitions for terms related to annotating & editing on genius:\\n\\ntate\\neditorial standards\\nreferent\\nannotation id\\nred\\nscholars\\nintegrate\\narchive\\nrevert\\nreference\\nallusion\\nsample\\ninterpolation\\n\\n\\n'\n",
            "gorillaz-kids-with-guns-lyrics \"\\n\\n[verse 1]\\nkids with guns\\nkids with guns\\ntaking over\\nbut they won't be long\\nthey're mesmerized\\nskeletons\\n\\n[refrain 1]\\nkids with guns\\nkids with guns\\neasy does it, easy does it\\nthey got something to say no to\\n\\n[verse 2]\\ndrinking out (push it real)\\npacifier (push it real, push it)\\nvitamin souls (push it, push it real)\\nthe street desire (push it real, push it)\\ndoesn't make sense to (push it, push it real)\\nbut it won't be long (push it real, push it)\\n\\n[refrain 2]\\nkids with guns\\nkids with guns\\neasy does it, easy does it\\nthey got something to say no to\\n\\n[chorus]\\nnow they're turning us into monsters\\nturning us into fire\\nturning us into monsters\\nit's all desire, it's all desire\\nit's all desire\\n\\n[verse 3]\\ndrinking out\\npacifier\\nsinking soul\\nthere you are\\ndoesn't make side to\\nbut it won't be long\\n\\n[refrain 2]\\n‘cause kids with guns\\nkids with guns\\neasy does it, easy does it\\nthey got something to say no to\\n\\n[chorus]\\nnow they're turning us into monsters\\nturning us into fire\\nturning us into monsters\\nit's all desire, it's all desire\\nit's all desire\\n\\n[outro]\\npush it, push it, real, push it, real\\npush it, push it, push it, real, push it, real\\npush it, push it, real\\n\\n\"\n",
            "purity-ring-belispeak-ii-lyrics \"\\n\\n[intro: danny brown]\\ncheck!\\n\\n[chorus: megan james]\\ngrandma, the water is rising\\nmy boundless hair has gotten green\\ni'll be your swimming forest island\\nbid you walk safely, safely over me\\n\\n[verse 1: danny brown]\\nraised in the gutter, i ain't really had nothin'\\nno silver spoon, i was raised a rusty shovel\\ngranny used to tell me boy stay up outta trouble\\nbut the hunger in my tummy had me stayin' on my hustle\\nwhen i'm livin' in a bottle with my head all cloudy\\nstomach rumbling like a thunderstorm up in maui\\npray over me and i'm hoping that i make it\\nlike a last dollar in a slot machine in las vegas\\nneed good luck, stay trusting my gut\\nif they can't hold me down, then you hold me up\\ntrapped in the lies then, nobody i could trust\\ni'd give it all away before i give it all up\\nnow tell me have you ever ever ever in your life\\nhear something wrong and you know it wasn't right\\nnow you're up late night thinking that night\\nall along sorry, know it wasn't right\\nsame sense again, tell me would you think twice\\ni did that yesterday, put it on my life\\nonce a day passed, would a feelin' never last\\nwhile i flick away my problems with the cigarette ash\\nstayin' up late, i could never ever sleep\\nfeelin' all my hunger every time my belly speak\\nstayin' up late, i could never ever sleep\\nfeelin' all my hunger every time my belly speak\\n\\n[chorus: megan james]\\ngrandma, the water is rising\\nmy boundless hair has gotten green\\ni'll be your swimming forest island\\nbid you walk safely, safely over me\\n\\n[verse 2: megan james & danny brown]\\ngrandma my sleep is narrow\\nbid you bring me some strong drink\\nstrain out the pulps and set them close outside\\nfor when my belly\\nfor when my little belly speaks\\ngrandma, there's air beneath my bed\\nand it whispers\\nand it whispers when i rest\\nbid hem the skirts in salt and vinegar, vinegar\\nand hover closely\\nhover closely under head\\nstayin' up late, i could never ever sleep\\nfeelin' all my hunger every time my belly speak\\nstayin' up late, i could never ever sleep\\nfeelin' all my hunger every time my belly speak\\ngrandma, i've been unruly\\nin my dreams\\nand with my speech\\ndrill little holes into my eyelids\\nthat i might see you\\n\\n[chorus: megan james]\\ngrandma, the water is rising\\nmy boundless hair has gotten green\\ni'll be your swimming forest island\\nbid you walk safely, safely over me\\n\\n\"\n",
            "tame-impala-music-to-walk-home-by-lyrics \"\\n\\n[verse]\\nbut that's only while i think of you\\nsome vision that i hold on to\\nyou know it's everything i do\\nyou know it's everything i do\\n\\ncan almost stand competing with the others\\ncan almost hear the fun that i should be having\\ninstead of just dreaming\\n\\nbut it's only when i think of you\\nthe mover i could turn into\\nthere must be something i can do\\nyeah, there must be something i can do\\n\\n[chorus]\\ni just don't know how to feel right\\na beautiful girl is wasting my life\\ni'm playing a part as somebody else\\nwhile tryin' so hard to be myself\\ni just need to hear somebody say\\nthis will all make sense one day\\ni guess i'm alright, but they're all doing so well\\nwhat i wouldn't give to be under that spell\\n\\n[post-chorus]\\nyou'll know soon\\nyou'll know soon\\nyou'll know soon\\nyou'll know soon\\nyou'll know soon (yeah)\\nyou'll know soon (yeah)\\nyou'll know soon (yeah)\\n(yeah, yeah, yeah)\\n(yeah, yeah, yeah)\\n\\n[bridge]\\nbut you don't know the truth\\ni really love you\\nyou just don't believe\\nanything i do\\n\\n[chorus]\\nin so many ways i'm somebody else\\nwhile tryin' so hard to be myself\\ni just need to hear somebody say\\nthis will all make sense one day\\nwell, it's getting late i'd better go\\ni made it this far as far as i know\\n\\n\"\n"
          ]
        }
      ],
      "source": [
        "# your code here\n",
        "result = boolean_search('make AND sense AND NOT kid',inverted_index, dictionary)\n",
        "print(\"Top 5:\")\n",
        "for documentID, lyrics in result:\n",
        "    print(documentID + \" \"+ repr(lyrics))  "
      ]
    },
    {
      "cell_type": "markdown",
      "metadata": {
        "id": "NQ0sd8zrWIbb"
      },
      "source": [
        "Now show the results for the query: `never OR know`"
      ]
    },
    {
      "cell_type": "code",
      "execution_count": 15,
      "metadata": {
        "id": "g2BumYswWIbc"
      },
      "outputs": [
        {
          "name": "stdout",
          "output_type": "stream",
          "text": [
            "Number of Results:  629\n",
            "Top 5:\n",
            "2pac-when-ure-hero-falls-4-my-hero-my-mother-annotated \"\\n\\nwhen your hero falls from grace\\nall fairy tales r uncovered\\nmyths exposed and pain magnified\\nthe greatest pain discovered\\nu taught me 2 be strong\\nbut i'm confused 2 c u so weak\\nu said never 2 give up\\nand it hurts 2 c u welcome defeat\\nwhen ure hero falls so do the stars\\nand so does the perception of tomorrow\\nwithout my hero there is only\\nme alone 2 deal with my sorrow.\\nyour heart ceases 2 work\\nand your soul is is not happy at all\\nwhat r u expected 2 do\\nwhen ure only hero falls\\n\\n\"\n",
            "5-seconds-of-summer-broken-pieces-lyrics \"\\n\\n[verse 1: calum]\\ni woke up in the place we started\\nyour clothes on the floor in that old apartment\\ni never thought you'd leave without a trace\\ni can't shake this sinking feeling\\ni know you're not there and i'm barely breathing\\nholding onto things i can't replace\\n\\n[pre-chorus: calum]\\ni'm looking for a way to change my mind and walk away\\n\\n[chorus: all]\\noh, tell me what we're fighting for\\nit's turning to an all-out war\\ni'll find a way to fix these broken pieces\\nand let go\\ni'm tryna find a way back home\\nif it takes until i'm skin and bones\\ni'll find a way to fix these broken pieces\\nand let go\\n\\n[verse 2: luke & michael]\\nour last words ringing in my head\\ni wish we'd take back all the things we said\\ni'm tryna find a way to yesterday\\ntalking in circles and chasing our tails\\nand wondering why we created this wasteland\\ni wish you wouldn't be so cavalier\\n\\n[pre-chorus: luke]\\ni'm looking for a way to change my mind and walk away\\n\\n[chorus: all]\\noh, tell me what we're fighting for\\nit's turning to an all-out war\\ni'll find a way to fix these broken pieces\\nand let go\\ni'm tryna find a way back home\\nif it takes until i'm skin and bones\\ni'll find a way to fix these broken pieces\\nand let go, let go, let go\\nfix these broken pieces and let go\\n\\n[bridge: michael & ashton]\\nwe're fading out, we're all alone\\nit's what you wanted, i suppose\\ni can tell you feel the same\\nwhen you say you're looking for a way to change your mind and walk away\\noh, tell me what we're fighting for\\nit's turning to an all-out war\\nwe'll find a way to fix these broken pieces\\n\\n[chorus: all]\\noh, tell me what we're fighting for\\nit's turning to an all-out war\\ni'll find a way to fix these broken pieces\\nand let go\\ni'm tryna find a way back home\\nif it takes until i'm skin and bones\\ni'll find a way to fix these broken pieces\\nand let go, let go, let go\\nfix these broken pieces and let go\\n\\n\"\n",
            "5-seconds-of-summer-castaway-lyrics \"\\n\\n[verse 1: luke]\\nyoung love, close the chapter\\nthere's no ever after\\nfell fast, ended faster, yeah\\nlate night conversations\\nled to complications\\nnow my heart is in my hands\\n\\n[pre-chorus: luke]\\n'cause you walked out and left me stranded\\nnothing left but picture frames\\nand i just keep on asking myself\\n\\n[chorus: all]\\nhow'd we drift so far away\\nfrom where we left off yesterday?\\ni'm lonely like a castaway\\nheartbreak that i can't escape\\na sinking ship i'll never save\\ni'm lonely like a castaway\\n\\n[verse 2: michael]\\nall your screaming whispers\\nslip right through my fingers\\nbut these memories linger on\\neyes closed, all i see is\\ngood times disappearing\\nand i'm trying to hold on\\n\\n[pre-chorus: michael]\\n'cause you walked out and left me stranded\\nnothing left but picture frames\\ni just keep on asking myself\\n\\n[chorus: all]\\nhow'd we drift so far away\\nfrom where we left off yesterday?\\ni'm lonely like a castaway\\nheartbreak that i can't escape\\na sinking ship i'll never save\\ni'm lonely like a castaway\\n\\n(castaway\\ncastaway)\\n\\n[bridge: luke]\\nhow'd we drift so far away\\nfrom where we left off yesterday?\\ni'm lonely like a castaway\\n\\n[chorus: all & luke]\\nhow'd we drift so far away\\nfrom where we left off yesterday?\\ni'm lonely like a castaway\\nheartbreak that i can't escape\\na sinking ship i'll never save\\ni'm lonely like a castaway\\ncastaway\\ncastaway\\n\\n\"\n",
            "5-seconds-of-summer-dont-stop-lyrics \"\\n\\n[verse 1: luke]\\nyou're like perfection, some kind of holiday\\nyou got me thinking that we could run away\\nyou want, i’ll take you there\\nyou tell me when and where, oh-oh, oh, oh\\n\\n[pre-chorus: luke]\\nbut then i asked for your number, said you don’t have a phone\\nit’s getting late now, i gotta let you know\\nthat everybody wants to take you home tonight\\nbut i’m gonna find a way to make you mine\\n\\n[chorus: all]\\ndon’t stop doing what you’re doing\\nevery time you move to the beat\\nit gets harder for me\\nand you know it, know it, know it\\nand don’t stop 'cause you know that i like it\\nevery time you walk in the room\\nyou got all eyes on you\\nand you know it, know it, know it\\n\\n[verse 2: calum]\\nyou're coming close now, swear i can taste it\\nyou got me tongue-tied, i can't escape it\\ni’m loving what you got\\nbut then you push me off, oh-oh, oh, oh\\n\\n[pre-chorus: calum]\\nand everybody wants to take you home tonight\\nbut i’m gonna find a way to make you mine\\n\\n[chorus: all]\\ndon’t stop doing what you’re doing\\nevery time you move to the beat\\nit gets harder for me\\nand you know it, know it, know it\\nand don’t stop 'cause you know that i like it\\nevery time you walk in the room\\nyou got all eyes on you\\nand you know it, know it, know it\\n\\n[bridge: michael & luke]\\nevery day it’s the same\\nall the games that you play\\nback and forth, round and round\\nkinda like it this way\\ndon’t stop doing what you’re doing\\n'cause everytime you move to the beat\\nit gets harder for me\\nand you know it, know it, know it\\n\\n[chorus: all & ashton & michael]\\ndon’t stop 'cause you know that i like it\\nevery time you walk in the room\\nyou got all eyes on you\\nand you know it, know it, know it, know it\\ndon’t stop\\ndon’t stop, stop what you’re doing\\ndoing what you're doing\\n'cause you know that, you know that i like it\\neverytime you move to the beat\\nit gets harder for me\\nand you know it, know it, know it\\nand don’t stop 'cause you know that i like it\\nyou know that i like it\\nevery time you walk in the room\\nyou got all eyes on you\\nand you know it, know it, know it\\n\\n\"\n",
            "5-seconds-of-summer-everything-i-didnt-say-lyrics \"\\n\\n[intro: calum]\\noh, oh, oh, oh, oh, oh\\noh, oh, oh, oh, oh\\noh, oh, oh, oh, oh, oh, oh\\nthis is everything i didn't say\\n\\n[verse 1: calum]\\nwait, don’t tell me heaven is a place on earth\\ni wish i could rewind all the times that i didn’t show you what you’re really worth\\nthe way you held me, i wish that i had put you first\\ni was wrong i admit, numb from your kiss\\nwhile you were slipping through my fingertips\\n\\n[chorus: all & calum]\\ntaking every breath away\\nwith all of the mistakes i’ve made\\nfrom all the letters that i’ve saved\\nthis is everything i didn’t say\\ni wish i could’ve made you stay\\nand i’m the only one to blame\\ni know that it’s a little too late\\nthis is everything i didn’t say\\noh, oh, oh, oh, oh, oh\\noh, oh, oh, oh, oh, oh\\nthis is everything i didn’t say\\n\\n[verse 2: luke]\\nwake me up now and tell me this is all a bad dream\\nall the songs that i wrote\\nall the wrongs that i hoped\\nwould erase from your memory\\nholding onto a broken and empty heart\\nflowers i should’ve bought\\nall the hours i lost\\nwish i could bring it back to the start\\n\\n[chorus: all & calum]\\ntaking every breath away\\nwith all of the mistakes i’ve made\\nfrom all the letters that i’ve saved\\nthis is everything i didn't say\\ni wish i could make you stay\\nand i'm the only one to blame\\ni know that it's a little to late\\nthis is everything i didn't say\\n\\n[bridge: michael]\\ni hope you know for you i’d sacrifice\\nto make this right\\nwoah, oh, oh\\nwoah, oh, oh\\nsome day i’m sure we’ll pass each other by\\nuntil that time\\n\\n[chorus: all & calum]\\ntaking every breath away\\nwith all of the mistakes i’ve made\\nfrom all the letters that i’ve saved\\nthis is everything i didn’t say\\ni wish i could’ve made you stay\\nand i’m the only one to blame\\ni know that it’s a little too late\\nthis is everything i didn’t say\\noh, oh, oh, oh, oh, oh\\noh, oh, oh, oh, oh\\noh, oh, oh, oh, oh, oh, oh\\nthis is everything i didn't say\\noh, oh, oh, oh, oh, oh\\noh, oh, oh, oh, oh\\noh, oh, oh, oh, oh, oh, oh\\n\\n\"\n"
          ]
        }
      ],
      "source": [
        "# your code here\n",
        "result = boolean_search('never OR know',inverted_index, dictionary)\n",
        "print(\"Top 5:\")\n",
        "for documentID, lyrics in result:\n",
        "    print(documentID + \" \"+ repr(lyrics))  "
      ]
    },
    {
      "cell_type": "markdown",
      "metadata": {
        "id": "IAhHuIDfN-Jp"
      },
      "source": [
        "### Observations "
      ]
    },
    {
      "cell_type": "markdown",
      "metadata": {
        "id": "UX6k-Vil0GIy"
      },
      "source": [
        "### Relevance of search results:\n",
        "1. The implemented search engine is based on boolean search. They rely on exact match of query terms with the tokens of documents. \n",
        "2. The method of breaking down text into tokens is not sophisticated and can lead to the generation of irrelevant and nonsensical tokens, which can completely alter the meaning of words. For instance, substituting the apostrophe in \"I'm\" with a space leads to the tokens \"I\" and \"m,\" which are meaningless on their own. Searching with these tokens might retrieve documents that have no relevance.\n",
        "3. The relevance of results highly depends on how the users formulates his/her query. For instance, if the query accurately reflects the content of documents, the search engine can retrieve highly relevant results. \n",
        "4. However, boolean searches may miss the nuances of user intent or the relevance of content that do not exactly match the query words but are still relevant to the user's needs.\n",
        "5. Context based searching, partial searching and phrase queries are not supported is not supported in the current search engine. \n",
        "   \n",
        "### Customer Satisfaction:\n",
        "\n",
        "In my opinion the search is not yet ready to be deployed since it requires a lot of improvement in order to increase the quality of search.\n",
        "\n",
        "Following are some of the features which could be added to make the search more powerful:\n",
        "1. Ranked boolean search retrieval which outputs most relevant documents at the top using Cosine Similarity and TF-IDF. \n",
        "2. Ranked phrase query search based on positional indexing to give a more enhanced search result.\n",
        "\n",
        "\n",
        "### Impact of pre-processing:\n",
        "1. **Removing Case Sensitivity:**\n",
        "   Making the search case-insensitive broadens the match possibilities, likely increasing the number of relevant documents retrieved.\n",
        "2. **Tokenizing: **\n",
        "    Tokenizing the documents helps in concentrating on meaningful words and hence can improve the search quality.\n",
        "3. **Removing special characters:**\n",
        "   Removing the unnecessary special characters which are not relevant can improve the search quality. However, in some cases it can do the opposite.\n",
        "\n",
        "   Overall, the pre-processing steps are crucial in shaping the quality of search experience, balancing between broadening the search scope and maintaining the relevance of results."
      ]
    },
    {
      "cell_type": "markdown",
      "metadata": {
        "id": "LYce9oRO6sbl"
      },
      "source": [
        "### Part 3: Cool Extension\n",
        "\n",
        "#### Ranked Retrieval and Cosine Similarity\n"
      ]
    },
    {
      "cell_type": "markdown",
      "metadata": {},
      "source": [
        "#### Text Preprocessing"
      ]
    },
    {
      "cell_type": "code",
      "execution_count": 16,
      "metadata": {},
      "outputs": [
        {
          "data": {
            "text/html": [
              "<div>\n",
              "<style scoped>\n",
              "    .dataframe tbody tr th:only-of-type {\n",
              "        vertical-align: middle;\n",
              "    }\n",
              "\n",
              "    .dataframe tbody tr th {\n",
              "        vertical-align: top;\n",
              "    }\n",
              "\n",
              "    .dataframe thead th {\n",
              "        text-align: right;\n",
              "    }\n",
              "</style>\n",
              "<table border=\"1\" class=\"dataframe\">\n",
              "  <thead>\n",
              "    <tr style=\"text-align: right;\">\n",
              "      <th></th>\n",
              "      <th>song</th>\n",
              "      <th>lyrics</th>\n",
              "    </tr>\n",
              "  </thead>\n",
              "  <tbody>\n",
              "    <tr>\n",
              "      <th>0</th>\n",
              "      <td>justin-bieber-one-time-lyrics</td>\n",
              "      <td>[me, plus, you, imma, tell, you, one, time, me...</td>\n",
              "    </tr>\n",
              "    <tr>\n",
              "      <th>1</th>\n",
              "      <td>bones-connectingtoserver-lyrics</td>\n",
              "      <td>[can, you, stand, the, rain, new, edition, lik...</td>\n",
              "    </tr>\n",
              "    <tr>\n",
              "      <th>2</th>\n",
              "      <td>rihanna-photographs-lyrics</td>\n",
              "      <td>[heres, a, little, story, ive, gotta, tell, bo...</td>\n",
              "    </tr>\n",
              "    <tr>\n",
              "      <th>3</th>\n",
              "      <td>the-avett-brothers-no-hard-feelings-lyrics</td>\n",
              "      <td>[when, my, body, wont, hold, me, anymore, and,...</td>\n",
              "    </tr>\n",
              "    <tr>\n",
              "      <th>4</th>\n",
              "      <td>schoolboy-q-pusha-man-lyrics</td>\n",
              "      <td>[im, your, pusha, man, time, and, time, i, hea...</td>\n",
              "    </tr>\n",
              "  </tbody>\n",
              "</table>\n",
              "</div>"
            ],
            "text/plain": [
              "                                         song  \\\n",
              "0               justin-bieber-one-time-lyrics   \n",
              "1             bones-connectingtoserver-lyrics   \n",
              "2                  rihanna-photographs-lyrics   \n",
              "3  the-avett-brothers-no-hard-feelings-lyrics   \n",
              "4                schoolboy-q-pusha-man-lyrics   \n",
              "\n",
              "                                              lyrics  \n",
              "0  [me, plus, you, imma, tell, you, one, time, me...  \n",
              "1  [can, you, stand, the, rain, new, edition, lik...  \n",
              "2  [heres, a, little, story, ive, gotta, tell, bo...  \n",
              "3  [when, my, body, wont, hold, me, anymore, and,...  \n",
              "4  [im, your, pusha, man, time, and, time, i, hea...  "
            ]
          },
          "execution_count": 16,
          "metadata": {},
          "output_type": "execute_result"
        }
      ],
      "source": [
        "import pandas as pd\n",
        "import re\n",
        "\n",
        "songs = pd.read_json('lyrics_1000.jl', lines=True)\n",
        "\n",
        "def lower_case(s):\n",
        "    return s.lower()\n",
        "\n",
        "    \n",
        "def clean_and_tokenize(text):\n",
        "    text = re.sub(r'\\[.*?\\]', ' ', text)  # Remove song structure indicators\n",
        "    text = re.sub(r'[\\n]', ' ', text)  # Replace line breaks with space\n",
        "    text = re.sub(r'[^a-zA-Z\\s]', \"\", text)  # Replace punctuations and special chars with empty string(improvement)\n",
        "    text = re.sub(r'\\s+', \" \", text).strip()  # Normalize whitespace\n",
        "    text = text.lower()\n",
        "    tokens = text.split()  # Tokenize by splitting on whitespace\n",
        "    return tokens\n",
        "\n",
        "songs['song'] = songs['song'].apply(lower_case)\n",
        "original_song_lyrics = dict() # documentID -> original song lyrics\n",
        "for documentID, lyrics in zip(songs['song'], songs['lyrics']):\n",
        "    original_song_lyrics[documentID] = lyrics\n",
        "    \n",
        "songs['lyrics'] = songs['lyrics'].apply(clean_and_tokenize)\n",
        "\n",
        "songs.head()"
      ]
    },
    {
      "cell_type": "markdown",
      "metadata": {},
      "source": [
        "### Ranked Retrieval using TF-IDF and Cosine Similarity\n",
        "\n",
        "#### Approach: \n",
        "The approach used to implement the search engine below uses TF-IDF weights for document terms and Term frequency for query terms to calculate the cosine similarity scores."
      ]
    },
    {
      "cell_type": "code",
      "execution_count": 17,
      "metadata": {},
      "outputs": [],
      "source": [
        "## Ranked Retrieval using TF-IDF and cosine similarity\n",
        "\"\"\"\n",
        "    Using the TF-IDF and cosine similarity to rank the documents for a given boolean query\n",
        "    Features:\n",
        "      - TF-IDF weighting\n",
        "      - Boolean query evaluation\n",
        "      - Ranking based on Cosine similarity\n",
        "    \n",
        "    Steps:\n",
        "    1. Get the document frequency of each token in the document\n",
        "    2. Get the term frequency of each token in the document\n",
        "    3. Calculate the term frequency of each token in the document\n",
        "    4. Calculate the inverse document frequency of each token in the document\n",
        "    5. Calculate the tf-idf of each token in the document\n",
        "    6. Calculate the cosine similarity of the query and the documents\n",
        "    7. Tokenize and clean the query like we did with the lyrics\n",
        "    8. Parse the query and evaluate the boolean query to get the unordered list of documents\n",
        "    9. Rank the documents based on the cosine similarity scores\n",
        "    10. Return the top 5 ranked documents for the given query\n",
        "\"\"\"\n",
        "\n",
        "import numpy as np\n",
        "\n",
        "def get_document_frequency_list(documentID, dictionary, inverted_index):\n",
        "    \"\"\" get the document frequency of each token in the document\n",
        "\n",
        "    Keyword arguments:\n",
        "    argument -- documentID, dictionary, inverted_index\n",
        "    Return: return a dictionary of token and its document frequency\n",
        "    \"\"\"\n",
        "    \n",
        "    document_frequencies = dict()\n",
        "    for token in dictionary.get(documentID):\n",
        "        document_frequencies[token] = len(inverted_index.get(token, []))\n",
        "    return document_frequencies\n",
        "\n",
        "def get_term_frequency(documentID, dictionary):\n",
        "    \"\"\" get the term frequency of each token in the document\n",
        "    \n",
        "    Keyword arguments:\n",
        "    argument -- documentID, dictionary\n",
        "    Return: return a dictionary of token and its term frequency\n",
        "    \"\"\"\n",
        "    \n",
        "    term_frequency = dict()\n",
        "    for tokens in dictionary.get(documentID):\n",
        "        term_frequency[tokens] = term_frequency.get(tokens, 0) + 1\n",
        "    return term_frequency\n",
        "\n",
        "def calcualte_tf(vector):\n",
        "    \"\"\" calculate the term frequency of each token in the document\n",
        "    \n",
        "    Keyword arguments:\n",
        "    argument -- vector which is the list of term frequency values added with value 1\n",
        "    Return: return the log of the vector\n",
        "    \"\"\"\n",
        "    \n",
        "    return np.log(vector)\n",
        "\n",
        "def calcualte_idf(term_in_documents_count, total_documents):\n",
        "    \"\"\" calculate the inverse document frequency of each token in the document\n",
        "    using the formula log(total_douments/term_in_documents_count)\n",
        "    \n",
        "    Keyword arguments:\n",
        "    argument -- term_in_documents_count, total_documents\n",
        "    Return: return the inverse document frequency of the token\n",
        "    \"\"\"\n",
        "    \n",
        "    return np.log(total_documents) - np.log(term_in_documents_count)\n",
        "\n",
        "def calculate_tf_idf(term_frequency, document_frequencies, total_documents):\n",
        "    \"\"\" calculate the tf-idf of each token in the document\n",
        "    \n",
        "    Keyword arguments:\n",
        "    argument -- term_frequency, document_frequencies, total_documents\n",
        "    Return: return the list of tf-idf of each token in the document\n",
        "    \"\"\"\n",
        "    \n",
        "    tf = calcualte_tf(list(map(lambda x: x+ 1, term_frequency.values())))\n",
        "    idf = calcualte_idf(list(map(lambda x: x+ 1, document_frequencies.values())), total_documents)\n",
        "    return tf * idf \n",
        "\n",
        "def safe_index(my_list, element):\n",
        "    try:\n",
        "        return my_list.index(element)\n",
        "    except ValueError:\n",
        "        return None\n",
        "    \n",
        "def get_indexes(query_tokens, document_tokens):\n",
        "    \"\"\"get the indexes of the query tokens in the document tokens list\n",
        "    \n",
        "    Keyword arguments:\n",
        "    argument -- query_tokens, document_tokens\n",
        "    Return: return the list of indexes of the query tokens in the document tokens list\n",
        "    \"\"\"\n",
        "    \n",
        "    return np.array(list(map(lambda x: safe_index(document_tokens, x) , query_tokens)))\n",
        "\n",
        "def calculate_cosine_similarity(query_tokens, documents, inverted_index, dictionary):\n",
        "    \"\"\" calculate the cosine similarity of the query and the documents\n",
        "    \n",
        "    Keyword arguments:\n",
        "    argument -- query_tokens, documents, inverted_index, dictionary\n",
        "    Return: return the list of cosine similarity scores of the query and the documents\n",
        "    \"\"\"\n",
        "    \n",
        "    scores = dict()\n",
        "    for documentID in documents:\n",
        "        document_frequencies = get_document_frequency_list(documentID, dictionary, inverted_index)\n",
        "        term_frequency = get_term_frequency(documentID, dictionary)\n",
        "        tf_idf = calculate_tf_idf(term_frequency, document_frequencies,len(list(dictionary.keys())))\n",
        "        query_vector = np.zeros(tf_idf.shape[0])\n",
        "        \n",
        "        x = get_indexes(query_tokens, list(term_frequency.keys()))\n",
        "        for i in x:\n",
        "            if i is not None:\n",
        "                query_vector[i] = 1\n",
        "        all_zeros = not query_vector.any()\n",
        "        scores[documentID] = tf_idf.dot(query_vector) / (np.linalg.norm(tf_idf) * np.linalg.norm(query_vector)) if all_zeros == False else 0\n",
        "    return scores\n",
        "\n",
        "def ranked_retrieval(query, songs,  dictionary, inverted_index):\n",
        "    \"\"\" ranked retrieval of documents for a given query\n",
        "    \n",
        "    Keyword arguments:\n",
        "    argument -- query, songs, dictionary, inverted_index\n",
        "    Return: return the list of top 5 ranked documents for the given query\n",
        "    \"\"\"\n",
        "    \n",
        "        # tokenize and clean the query like we did with the lyrics\n",
        "    quert_tokens = clean_and_tokenize(query)\n",
        "    result = set()\n",
        "    compatible_query = \" \".join(quert_tokens)\n",
        "    # Using Abstract Syntax Tree(AST) in python to parse the query into a tree and evaluate the expression to the result\n",
        "    # The operators are 'AND', 'OR', 'NOT'\n",
        "    # The operands are the tokens\n",
        "    tree = ast.parse(compatible_query, mode='eval')\n",
        "    universal_set = set(dictionary.keys())\n",
        "    result = evaluate_ast(tree.body, inverted_index, universal_set)\n",
        "    document_scores = calculate_cosine_similarity(quert_tokens, result, inverted_index, dictionary)\n",
        "    top_5_ranked_results = sorted(document_scores.items(), key=lambda x: x[1], reverse=True)[:5]\n",
        "    result_list = [(documentID, songs[documentID]) for documentID, _ in top_5_ranked_results]\n",
        "    return result_list, top_5_ranked_results\n"
      ]
    },
    {
      "cell_type": "markdown",
      "metadata": {},
      "source": [
        "#### Usage and Results"
      ]
    },
    {
      "cell_type": "code",
      "execution_count": 18,
      "metadata": {},
      "outputs": [
        {
          "name": "stdout",
          "output_type": "stream",
          "text": [
            "Query: \"'young and man'\"\n",
            "\n",
            "Results: \n",
            "1 erykah-badu-times-a-wastin-lyrics \"\\n\\n[Intro]\\nYeah, ay\\n\\n[Chorus]\\nTime's a wastin'\\nDon't you take your time, young man\\nKeep on drifting and\\nAin't no telling where you'll land\\n\\n[Verse 1]\\nRun baby, run, run\\nWhere you running to?\\nAnd who you running from?\\nSome people may not understand\\nWhat it means to be a man\\nTaking full command\\n\\n[Pre-Chorus]\\n'Cause we're living in a world that's oh-so-strange\\nBoy, don't let your focus change\\nTaking out the demons in your range\\nLiving in a world that's oh-so-fast\\nGotta make your money last\\nLearn from your past, oh\\n\\n[Chorus]\\nTime's a wastin'\\nDon't you take your time, young man\\nKeep on drifting\\nAin't no telling where you'll land\\n\\n[Verse 2]\\nSweet love and sunshine\\nIf it's all in the air\\nThen it's all on your mind\\nBreathe baby\\nCome back to the world\\nDig up all your pearls\\nTeach the boys and girls\\n\\n[Pre-Chorus]\\nWe're Living in a world that's oh-so-strange\\nBoy, don't let your focus change\\nTaking out the demons in your range\\nLiving in a world that's oh-so-fast\\nGotta make your money last\\nLearn from your past\\n\\n[Segue]\\nOh baby we need to smile\\nOh baby we need to smile\\nOh baby we need to smile\\nOh baby we need to smile\\nOh baby, baby we need to smile\\n\\n[Chorus]\\nCause time's a wastin'\\nDon't you take your time, young man\\nKeep on drifting and\\nAin't no telling where you'll land\\n\\n[Segue]\\nOh baby we need to smile\\nOh baby we need to smile\\nOh, oh, oh, oh\\n\\n[Outro]\\nTime's a wastin'\\nDon't you take your time, young man\\nKeep on drifting\\nAin't no telling where you'll land\\nAin't no telling where you'll land\\nAin't no telling where you'll land\\nAin't no telling where you'll land\\nAin't no telling where you'll land\\nAin't no telling where you'll land\\nAin't no telling where you'll land\\nAin't no telling where you'll land\\n\\n\"\n",
            "2 troye-sivan-seventeen-lyrics \"\\n\\n[Verse 1]\\nI got these beliefs that I think you wanna break\\nGot something here to lose that I think you wanna take from me\\nYou say that I'm asleep, but I wanna be awake\\nGot something here to lose that I know you wanna take\\n\\n[Pre-Chorus]\\nAnd he said age is just a number, just like any other\\nWe can do whatever, do whatever you want\\nBoy becomes a man now\\nCan't tell a man to slow down\\nHe'll just do whatever, do whatever he wants\\n\\n[Chorus]\\nI went out looking for love when I was seventeen\\nMaybe a little too young, but it was real to me\\nAnd in the heat of the night, saw things I'd never seen\\nNo-oh-oh-oh-oh-oh, seventeen\\n\\n[Verse 2]\\nYou should know I'm green, but I'll find my way around\\nHeard the whispers, now let's see what all the talk's about\\nI'm taking in the sights and measuring the sounds\\nHeard the whispers, now let's see what all the talk's about\\n\\n[Pre-Chorus]\\nAnd he said age is just a number, just like any other\\nWe can do whatever, do whatever you want\\nBoy becomes a man now\\nCan't tell a man to slow down\\nHe'll just do whatever, do whatever he wants\\n\\n[Chorus]\\nI went out looking for love when I was seventeen\\nMaybe a little too young, but it was real to me\\nAnd in the heat of the night, saw things I'd never seen\\nNo-oh-oh-oh-oh-oh-oh, seventeen\\n\\n[Bridge]\\nOh-oh-oh-oh-oh-oh, seventeen\\nSeventeen, seventeen, seventeen\\nOh-oh-oh-oh-oh-oh, seventeen\\nSeventeen, seventeen, seventeen\\n\\n[Chorus]\\nI went out looking for love when I was seventeen\\nMaybe a little too young, but it was real to me\\nAnd in the heat of the night, saw things I'd never seen\\nNo-oh-oh-oh-oh-oh, seventeen\\nI went out looking for love when I was seventeen\\nMaybe a little too young, but it was real to me\\nAnd in the heat of the night, saw things I'd never seen\\nNo-oh-oh-oh-oh-oh, seventeen\\n\\n[Outro]\\nSeventeen, seventeen, seventeen\\nSeventeen, seventeen, seventeen\\n\\n\"\n",
            "3 mott-the-hoople-all-the-young-dudes-lyrics \"\\n\\n[Verse 1]\\nWell, Billy rapped all night about his suicide\\nHow he'd kick it in the head when he was twenty-five\\nSpeed jive, don't want to stay alive\\nWhen you're twenty-five\\nAnd Wendy's stealing clothes from Marks & Sparks\\nAnd Freddy's got spots from ripping off the stars from his face\\nFunky little boat race\\nTelevision man is crazy saying we're juvenile delinquent wrecks\\nOh, Man, I need TV when I've got T.Rex\\nOh brother, you guessed\\nI'm a dude, dad\\n\\n[Chorus]\\nAll the young dudes (Hey dudes!)\\nCarry the news (Where are you?)\\nBoogaloo dudes (Stand up, c'mon)\\nCarry the news\\nAll the young dudes (I want to hear you)\\nCarry the news (I want to see you)\\nBoogaloo dudes (I want to talk to you, all of you)\\nCarry the news (Nowwww)\\n\\n[Verse 2]\\nNow Lucy looks sweet cause he dresses like a queen\\nBut he can kick like a mule, it's a real mean team\\nBut we can love\\nOh yes, we can love\\nAnd my brother's back at home with his Beatles and his Stones\\nWe never got it off on that revolution stuff\\nWhat a drag, too many snags\\nNow I've drunk a lot of wine and I'm feeling fine\\nGot to race some cat to bed\\nOh is that concrete all around\\nOr is it in my head?\\nYeah\\nI'm a dude, dad\\n\\n[Chorus]\\nAll the young dudes (Hey dudes)\\nCarry the news (Where are you?)\\nBoogaloo dudes (Stand up)\\nCarry the news (ha ha)\\nAll the young dudes (I want to hear you)\\nCarry the news (I want to see you)\\nBoogaloo dudes (I want to relate to you)\\nCarry the news\\nAll the young dudes (What dudes?)\\nCarry the news (Let's hear the news, c'mon)\\nBoogaloo dudes (I want to kick you, ha ha ha ha)\\nCarry the news\\n\\n[Outro]\\n(Hey, you there)\\nAll the young dudes\\n(With the glasses)\\nCarry the news (I want you)\\nBoogaloo dudes (I want you in the front)\\nCarry the news (Now)\\n(Now, you're his friends)\\nAll the young dudes (Now you bring him down)\\n('Cause I want him)\\nCarry the news (Ha, ha, ha)\\nBoogaloo dudes (I want him right here)\\n(Bring him, c'mon)\\nCarry the news (Bring him)\\n(Ha, ha)\\n(Here you go)\\nAll the young dudes\\n(I’ve wanted to do this for years)\\nCarry the news\\n(There you go!)\\nBoogaloo dudes\\n(How’d it feel?)\\nCarry the news\\n\\n\"\n",
            "4 queen-i-want-it-all-lyrics '\\n\\n[Intro: Queen]\\nI want it all (Hey, yeah), I want it all\\nI want it all, and I want it now\\n\\n[Verse 1: Freddie Mercury]\\nAdventure seeker on an empty street\\nJust an alley creeper light on his feet\\nA young fighter screaming with no time for doubt\\nWith the pain and anger, can\\'t see a way out\\n\\n[Pre-Chorus: Freddie Mercury]\\n\"It ain\\'t much I\\'m asking,\" I heard him say\\n\"Got to find me a future, move out of my way\"\\n\\n[Chorus: Queen]\\nI want it all, I want it all\\nI want it all, and I want it now\\nI want it all, I want it all\\nI want it all, and I want it now\\n\\n[Verse 2: Freddie Mercury]\\nListen, all you people, come gather \\'round\\nI gotta get me a game plan, gotta shake you to the ground\\nJust give me what I know is mine\\nPeople, do you hear me? Just give me the sign\\n\\n[Pre-Chorus: Freddie Mercury]\\nIt ain\\'t much I\\'m asking, if you want the truth\\nHere\\'s to the future for the dreams of youth\\n\\n[Chorus: Queen]\\nI want it all, I want it all (Give it all, I want it all)\\nI want it all, and I want it now (Hey)\\nI want it all, I want it all (Yes, I want it all, hey)\\nI want it all, and I want it now\\n\\n[Bridge: Brian May (and Freddie Mercury)]\\nI\\'m a man with a one-track mind\\nSo much to do in one lifetime (People, do you hear me?)\\nNot a man for compromise\\nAnd \\'wheres\\' and \\'whys\\' and living lies\\nSo I\\'m living it all (Yes, I\\'m living it all)\\nAnd I\\'m giving it all (And I\\'m giving it all, ooh, yeah)\\n(Yeah, yeah, yeah)\\n\\n[Guitar Solo]\\n\\n[Pre-Chorus: Freddie Mercury]\\nIt ain\\'t much I\\'m asking, if you want the truth\\nHere\\'s to the future, hear the cry of youth\\n(Hear the cry, hear the cry of youth)\\n\\n[Chorus: Queen]\\nI want it all, I want it all\\nI want it all, and I want it now\\nI want it all, I want it all (Hey, yeah, yeah)\\nI want it all, and I want it now (Ooh, ooh)\\nI want it now\\n\\n[Outro: Freddie Mercury]\\nI want it, I want it!\\nOooh, huh!\\n\\n'\n",
            "5 partynextdoor-thank-you-letter-p3-lyrics \"\\n\\nTo my fans\\n\\nIt's still hard to believe that you want to hear the kid from Mississauga sing his stories. I'm really just a young man that makes music and makes songs about my life. I never want to be limited and I simply want to be seen as a creative. From here on, I will try to do better at interacting with my fans and I'm excited to finally give you more music. On that note, I'm proud to share P3 with the world... lol and perform for all of you once again. We created this site to share exclusively curated content and give you all a voice and a place to share it. Thank you for listening & thank you for being here.\\n\\nSincerely, PX\\n\\n\"\n"
          ]
        }
      ],
      "source": [
        "\n",
        "dictionary, inverted_index = get_inverted_index(songs)\n",
        "query = \"'young and man'\"\n",
        "result, top5_ranked_results = ranked_retrieval(query,original_song_lyrics, dictionary, inverted_index)\n",
        "print(f\"Query: \\\"{query}\\\"\\n\")\n",
        "print(\"Results: \")\n",
        "for i, (documentID, lyrics) in enumerate(result):\n",
        "    print(i+1, documentID + \" \"+ repr(lyrics))"
      ]
    },
    {
      "cell_type": "code",
      "execution_count": 19,
      "metadata": {},
      "outputs": [
        {
          "data": {
            "text/html": [
              "<div>\n",
              "<style scoped>\n",
              "    .dataframe tbody tr th:only-of-type {\n",
              "        vertical-align: middle;\n",
              "    }\n",
              "\n",
              "    .dataframe tbody tr th {\n",
              "        vertical-align: top;\n",
              "    }\n",
              "\n",
              "    .dataframe thead th {\n",
              "        text-align: right;\n",
              "    }\n",
              "</style>\n",
              "<table border=\"1\" class=\"dataframe\">\n",
              "  <thead>\n",
              "    <tr style=\"text-align: right;\">\n",
              "      <th></th>\n",
              "      <th>Document ID</th>\n",
              "      <th>Score</th>\n",
              "    </tr>\n",
              "  </thead>\n",
              "  <tbody>\n",
              "    <tr>\n",
              "      <th>0</th>\n",
              "      <td>erykah-badu-times-a-wastin-lyrics</td>\n",
              "      <td>0.171166</td>\n",
              "    </tr>\n",
              "    <tr>\n",
              "      <th>1</th>\n",
              "      <td>troye-sivan-seventeen-lyrics</td>\n",
              "      <td>0.155351</td>\n",
              "    </tr>\n",
              "    <tr>\n",
              "      <th>2</th>\n",
              "      <td>mott-the-hoople-all-the-young-dudes-lyrics</td>\n",
              "      <td>0.130119</td>\n",
              "    </tr>\n",
              "    <tr>\n",
              "      <th>3</th>\n",
              "      <td>queen-i-want-it-all-lyrics</td>\n",
              "      <td>0.117684</td>\n",
              "    </tr>\n",
              "    <tr>\n",
              "      <th>4</th>\n",
              "      <td>partynextdoor-thank-you-letter-p3-lyrics</td>\n",
              "      <td>0.107158</td>\n",
              "    </tr>\n",
              "  </tbody>\n",
              "</table>\n",
              "</div>"
            ],
            "text/plain": [
              "                                  Document ID     Score\n",
              "0           erykah-badu-times-a-wastin-lyrics  0.171166\n",
              "1                troye-sivan-seventeen-lyrics  0.155351\n",
              "2  mott-the-hoople-all-the-young-dudes-lyrics  0.130119\n",
              "3                  queen-i-want-it-all-lyrics  0.117684\n",
              "4    partynextdoor-thank-you-letter-p3-lyrics  0.107158"
            ]
          },
          "execution_count": 19,
          "metadata": {},
          "output_type": "execute_result"
        }
      ],
      "source": [
        "df = pd.DataFrame(top5_ranked_results, columns=['Document ID', 'Score'])\n",
        "df"
      ]
    },
    {
      "cell_type": "code",
      "execution_count": 20,
      "metadata": {},
      "outputs": [
        {
          "name": "stdout",
          "output_type": "stream",
          "text": [
            "Query: \"I AND want AND it AND all\"\n",
            "\n",
            "Results: \n",
            "1 nile-rodgers-and-chic-i-want-your-love-lady-gaga-version-lyrics \"\\n\\n[Intro]\\nNile, Chic, Gaga\\nI want your love, I want your love\\nI want your love, I want your love\\nI want your love, I want your love\\n\\n[Verse 1]\\nDo you feel, like you ever want to try my love and see how well it fits?\\nBaby, can't you see when you look at me?\\nI can't kick this feeling when it hits\\nOh, all alone, in my bed at night\\nI grab my pillow and squeeze it tight\\nI think of you\\nAnd I dream of you, all of the time\\nWhat am I gonna do?\\n\\n[Chorus]\\nI want your love, I want your love\\n(I want your love, you know I need your love)\\nI want your love, I want your love\\n(I want your love, you know I need your love)\\n\\n[Post-Chorus]\\nYou know I need your love, you know I need your love\\nYou know I need your love, you know I need your love\\nYou know I need your love, you know I need your love\\n\\n[Verse 2]\\nI'll share my dreams\\nAnd make you see how really bad your love, I need\\nI want your love, I need your love\\nJust like the birds needs sky above\\nI'll share my dreams\\nAnd make you see how really bad your love, I need\\nI'll share my dreams\\nAnd make you see how really bad your love, I need\\n\\n[Chorus]\\nI want your love, I want your love\\n(I want your love, you know I need your love)\\nI want your love, I want your love\\n(I want your love, you know I need your love)\\nI want your love, I want your love\\n(I want your love, you know I need your love)\\nI want your love, I want your love\\n(I want your love, you know I need your love)\\n\\n[Outro]\\nI want your love, I want your love\\n(Have you ever been in love?)\\nYou know I need your love, you know I need your love\\nYou know I want your love, you know I need your love\\nYou know I want your love, you know I need your love\\nYou know I want your love, you know I need your love\\nYou know I want your love, you know I need your love\\nI want your love, need your love\\nYou know I need your love\\nI want your love, I want your love\\n\\n\"\n",
            "2 queen-i-want-it-all-lyrics '\\n\\n[Intro: Queen]\\nI want it all (Hey, yeah), I want it all\\nI want it all, and I want it now\\n\\n[Verse 1: Freddie Mercury]\\nAdventure seeker on an empty street\\nJust an alley creeper light on his feet\\nA young fighter screaming with no time for doubt\\nWith the pain and anger, can\\'t see a way out\\n\\n[Pre-Chorus: Freddie Mercury]\\n\"It ain\\'t much I\\'m asking,\" I heard him say\\n\"Got to find me a future, move out of my way\"\\n\\n[Chorus: Queen]\\nI want it all, I want it all\\nI want it all, and I want it now\\nI want it all, I want it all\\nI want it all, and I want it now\\n\\n[Verse 2: Freddie Mercury]\\nListen, all you people, come gather \\'round\\nI gotta get me a game plan, gotta shake you to the ground\\nJust give me what I know is mine\\nPeople, do you hear me? Just give me the sign\\n\\n[Pre-Chorus: Freddie Mercury]\\nIt ain\\'t much I\\'m asking, if you want the truth\\nHere\\'s to the future for the dreams of youth\\n\\n[Chorus: Queen]\\nI want it all, I want it all (Give it all, I want it all)\\nI want it all, and I want it now (Hey)\\nI want it all, I want it all (Yes, I want it all, hey)\\nI want it all, and I want it now\\n\\n[Bridge: Brian May (and Freddie Mercury)]\\nI\\'m a man with a one-track mind\\nSo much to do in one lifetime (People, do you hear me?)\\nNot a man for compromise\\nAnd \\'wheres\\' and \\'whys\\' and living lies\\nSo I\\'m living it all (Yes, I\\'m living it all)\\nAnd I\\'m giving it all (And I\\'m giving it all, ooh, yeah)\\n(Yeah, yeah, yeah)\\n\\n[Guitar Solo]\\n\\n[Pre-Chorus: Freddie Mercury]\\nIt ain\\'t much I\\'m asking, if you want the truth\\nHere\\'s to the future, hear the cry of youth\\n(Hear the cry, hear the cry of youth)\\n\\n[Chorus: Queen]\\nI want it all, I want it all\\nI want it all, and I want it now\\nI want it all, I want it all (Hey, yeah, yeah)\\nI want it all, and I want it now (Ooh, ooh)\\nI want it now\\n\\n[Outro: Freddie Mercury]\\nI want it, I want it!\\nOooh, huh!\\n\\n'\n",
            "3 sophie-beem-i-got-it-lyrics '\\n\\n[Intro: Sophie Beem]\\nYou want it\\nI got it\\nYou want it\\nBaby, I got it\\nYou want it\\nI got it\\nYou want it\\nBaby, I got it\\n\\n[Verse 1: Sophie Beem]\\nBabe, you better understand\\nThe things I do they\\'re all for you\\nIt\\'s only part of the plan\\nCome a little closer now\\nI\\'ll let you in, I\\'ll show you how\\nFeels like a dangerous game\\n\\n[Pre-Chorus: Sophie Beem]\\nI say \"hey yo, let\\'s go\\nI know a place we\\'ll lay low\\nAin\\'t nobody gotta notice\"\\nI say \"hey yo, let\\'s go\\nI know a place we\\'ll lay low\\nAin\\'t nobody gotta notice\"\\n\\n[Chorus: Sophie Beem]\\nCause it\\'s so high when you need me some more\\nAnd I\\'ll let you want me some more\\nIt\\'s so fine when you need me some more\\nThere is something going on with you and me\\n\\n[Post-Chorus: Sophie Beem]\\nYou want it\\nI got it\\nYou want it\\nBaby, I got it\\n(Yes, I do)\\nYou want it\\nI got it\\nYou want it\\nBaby, I got it\\n\\n[Verse 2: Fetty Wap]\\nI swear that you need it, so wrong that you need it\\nI want you to feel me how I\\'m feelin\\' you\\nWhen I see you, you let me loose\\nDo it all for you, spend it all on you\\nCause you\\'re my baby, drive me crazy\\nGet caught up lately in that new Mercedes\\nDrop coupe, I know you like that, baby\\nHighway cruise, about a buck 80\\nGet bands, I spend \\'em on my baby\\nDrop coupe, I know you like that, baby\\nHighway cruise, about a buck 80\\n\\n[Chorus: Sophie Beem]\\nCause it\\'s so high when you need me some more\\nAnd I\\'ll let you want me some more\\nIt\\'s so fine when you need me some more\\nThere is something going on with you and me\\n\\n[Post-Chorus: Sophie Beem]\\nYou want it\\nI got it\\nYou want it\\nBaby, I got it\\nYou want it\\nI got it\\nYou want it\\nBaby, I got it\\nYou want it\\nI got it\\nYou want it\\nBaby, I got it\\nYou want it\\nI got it\\nYou want it\\nBaby, I got it\\n\\n[Outro: Sophie Beem]\\nYou want it\\nI got it\\nYou want it\\nBaby, I got it\\n\\n'\n",
            "4 flying-lotus-tea-leaf-dancers-lyrics \"\\n\\n[Verse 1: Andreya Triana]\\nNo, I can't seem to get it\\nAnd in my mind I'm bettin'\\nMy time's made up, I gotta' go\\nAnd it's alright if you want\\nTo see through your tomorrow\\nBut right, now I gotta' go\\n\\n[Hook]\\nIf you want to stay then you can be here with me\\nBut I can't let go of all this love, oh no, so easily\\nI said, if you want to stay then you can be here with me\\nBut I can't let go of all this love, oh no, so easily\\n\\n[Verse 2]\\nNo I can't seem to forget\\nAnd in my mind it's steady\\nMy times made up, but I'm at home\\nAnd it's alright if you want\\nTo be who you want to be\\nBut right now, I gotta' go\\n\\n[Hook]\\n\\nIf you want to go babe, you can...\\nBut hear me out...\\nOh, I can't let it go, oh so easily\\nSo easily\\nSo easily\\n\\nNo, No, No...\\nIf you want\\nIf you want\\nSo easily...\\nIts alright...\\nBelieve me it's alright...\\n\\n\"\n",
            "5 zedd-and-katy-perry-365-lyrics \"\\n\\n[Verse 1]\\nWaking up next to you in the middle of the week\\nNever needed anyone to send me off to sleep\\nAnd I know I said go slow, but I can't hold back no more\\nGot a premonition this ain’t gonna be a fling\\nYou make the weekend feel like a year\\nBaby, you got me changing\\n24/7, I want you here\\nI hope you feel the same thing\\n\\n[Chorus]\\nI want you to be the one that's on my mind\\nOn my mind, on my mind\\nI want you to be there on a Monday night\\nTuesday night, every night\\nAre you gonna be the one that's on my mind?\\n3-6-5, all the time\\nI want you to be the one to stay\\nAnd give me the night and day\\n\\n[Verse 2]\\nLove it when you come back and can’t take it when you leave\\nGot me fantasizing our initials already\\nAnd I wanna just let go, falling deeper than before\\nSay that you are ready, lock it up in a heartbeat\\n\\n[Chorus]\\nI want you to be the one that's on my mind\\nOn my mind, on my mind\\nI want you to be there on a Monday night\\nTuesday night, every night\\nAre you gonna be the one that's on my mind?\\n3-6-5, all the time\\nI want you to be the one to stay\\nAnd give me the night and day\\n\\n[Post-Chorus]\\nI think about you all the time\\n24/7, 3-6-5\\nI think about you all the time\\n24/7, 3-6-5\\n\\n[Bridge]\\nOoh, ooh ooh ooh\\nAre you gonna be the one? (One, one, one, one)\\nOoh, ooh ooh ooh, ooh\\nAre you gonna be the one? (Are you gonna be the one?)\\nI want you to be the one\\n\\n[Chorus]\\nI want you to be the one that's on my mind\\nOn my mind, on my mind\\nI want you to be there on a Monday night\\nTuesday night, every night\\nAre you gonna be the one that's on my mind?\\n3-6-5, all the time\\nI want you to be the one to stay\\nAnd give me the night and day\\n\\n[Post-Chorus]\\nI think about you all the time\\n24/7, 3-6-5\\nI think about you all the time\\n24/7, 3-6-5\\n\\n\"\n"
          ]
        }
      ],
      "source": [
        "dictionary, inverted_index = get_inverted_index(songs)\n",
        "query = \"I AND want AND it AND all\"\n",
        "result, top5_ranked_results = ranked_retrieval(query,original_song_lyrics, dictionary, inverted_index)\n",
        "print(f\"Query: \\\"{query}\\\"\\n\")\n",
        "print(\"Results: \")\n",
        "for i, (documentID, lyrics) in enumerate(result):\n",
        "    print(i+1, documentID + \" \"+ repr(lyrics))"
      ]
    },
    {
      "cell_type": "code",
      "execution_count": 21,
      "metadata": {},
      "outputs": [
        {
          "data": {
            "text/html": [
              "<div>\n",
              "<style scoped>\n",
              "    .dataframe tbody tr th:only-of-type {\n",
              "        vertical-align: middle;\n",
              "    }\n",
              "\n",
              "    .dataframe tbody tr th {\n",
              "        vertical-align: top;\n",
              "    }\n",
              "\n",
              "    .dataframe thead th {\n",
              "        text-align: right;\n",
              "    }\n",
              "</style>\n",
              "<table border=\"1\" class=\"dataframe\">\n",
              "  <thead>\n",
              "    <tr style=\"text-align: right;\">\n",
              "      <th></th>\n",
              "      <th>Document ID</th>\n",
              "      <th>Score</th>\n",
              "    </tr>\n",
              "  </thead>\n",
              "  <tbody>\n",
              "    <tr>\n",
              "      <th>0</th>\n",
              "      <td>nile-rodgers-and-chic-i-want-your-love-lady-ga...</td>\n",
              "      <td>0.169232</td>\n",
              "    </tr>\n",
              "    <tr>\n",
              "      <th>1</th>\n",
              "      <td>queen-i-want-it-all-lyrics</td>\n",
              "      <td>0.164670</td>\n",
              "    </tr>\n",
              "    <tr>\n",
              "      <th>2</th>\n",
              "      <td>sophie-beem-i-got-it-lyrics</td>\n",
              "      <td>0.134014</td>\n",
              "    </tr>\n",
              "    <tr>\n",
              "      <th>3</th>\n",
              "      <td>flying-lotus-tea-leaf-dancers-lyrics</td>\n",
              "      <td>0.119509</td>\n",
              "    </tr>\n",
              "    <tr>\n",
              "      <th>4</th>\n",
              "      <td>zedd-and-katy-perry-365-lyrics</td>\n",
              "      <td>0.117840</td>\n",
              "    </tr>\n",
              "  </tbody>\n",
              "</table>\n",
              "</div>"
            ],
            "text/plain": [
              "                                         Document ID     Score\n",
              "0  nile-rodgers-and-chic-i-want-your-love-lady-ga...  0.169232\n",
              "1                         queen-i-want-it-all-lyrics  0.164670\n",
              "2                        sophie-beem-i-got-it-lyrics  0.134014\n",
              "3               flying-lotus-tea-leaf-dancers-lyrics  0.119509\n",
              "4                     zedd-and-katy-perry-365-lyrics  0.117840"
            ]
          },
          "execution_count": 21,
          "metadata": {},
          "output_type": "execute_result"
        }
      ],
      "source": [
        "df = pd.DataFrame(top5_ranked_results, columns=['Document ID', 'Score'])\n",
        "df"
      ]
    },
    {
      "cell_type": "markdown",
      "metadata": {},
      "source": [
        "#### Issues with above approach:\n",
        "\n",
        "To address the limitations of the previously discussed search engine model and enhance its functionality, it's essential to incorporate features that support more intuitive and precise querying. One significant area for improvement is the implementation of phrase queries. Below are the key points highlighting the issues with the current model and the necessity for phrase query support:\n",
        "\n",
        "**Lack of Phrase Query Support:** The existing model does not accommodate phrase queries, which significantly limits its utility for users seeking specific information. Phrase queries allow users to search for exact sequences of words, making the search process more intuitive and the results more relevant.\n",
        "\n",
        "**Order of Words Ignored:** The current approach does not consider the order in which words appear within the documents. This omission can lead to a retrieval of documents that contain all the query terms but in a different order, potentially resulting in irrelevant results being ranked highly.\n",
        "\n",
        "**Impact on User Experience**: The lack of phrase query support can significantly affect the user experience, as users may need to sift through irrelevant results or use more complex queries to find the information they need. This can make the search process less efficient and more frustrating for the user.\n",
        "\n",
        "Below is an implementation of a simple phrase query based search engine with ranking:"
      ]
    },
    {
      "cell_type": "markdown",
      "metadata": {},
      "source": [
        "### Phrase Queries with Ranking based on proximity score"
      ]
    },
    {
      "cell_type": "markdown",
      "metadata": {},
      "source": [
        "#### Creation of inverted index"
      ]
    },
    {
      "cell_type": "code",
      "execution_count": 22,
      "metadata": {},
      "outputs": [],
      "source": [
        "\n",
        "# Create the inverted index\n",
        "inverted_index = dict()\n",
        "for documentID, tokens in zip(songs['song'], songs['lyrics']):\n",
        "    for position, token in enumerate(tokens):\n",
        "        if token not in inverted_index:\n",
        "            inverted_index[token] = {}\n",
        "        \n",
        "        # Check if the document ID is already in the dictionary for the current token\n",
        "        if documentID in inverted_index[token]:\n",
        "            inverted_index[token][documentID].append(position)\n",
        "        else:\n",
        "            # If the document ID was not found for this token, create a new entry\n",
        "            inverted_index[token][documentID] = [position]"
      ]
    },
    {
      "cell_type": "markdown",
      "metadata": {},
      "source": [
        "#### Search Engine Implementation"
      ]
    },
    {
      "cell_type": "code",
      "execution_count": 23,
      "metadata": {},
      "outputs": [],
      "source": [
        "\n",
        "class SearchEngine:\n",
        "    \"\"\"\n",
        "        A search engine to retrieve the top 5 ranked documents for a phrase query \n",
        "        based on positional indexing and proximity scoring\n",
        "\n",
        "        Features:\n",
        "        - Phrase query search\n",
        "        - Positional indexing\n",
        "        - Proximity scoring \n",
        "        - Normalization of scores\n",
        "        - Retrieval of top 5 ranked documents\n",
        "    \"\"\"\n",
        "    \n",
        "    def __init__(self, inverted_index, max_gap):\n",
        "        self.inverted_index = inverted_index\n",
        "        self.k = max_gap\n",
        "\n",
        "    def positional_intersect(self, postings1, postings2):\n",
        "        \"\"\" find the intersection of two postings lists with positional information\n",
        "        \n",
        "        Keyword arguments:\n",
        "        argument -- postings1, postings2\n",
        "        Return: return the list of intersection of two postings lists with \n",
        "        positional information (docId, [(pos1, pos2), ...]\n",
        "        \"\"\"\n",
        "        \n",
        "        matches = []\n",
        "        for docID in postings1:\n",
        "            if docID in postings2:\n",
        "                positions1 = postings1[docID]\n",
        "                positions2 = postings2[docID]\n",
        "                l = []\n",
        "                for pos1 in positions1:\n",
        "                    for pos2 in positions2:\n",
        "                        if abs(pos1 - pos2) <= self.k:\n",
        "                            l.append((pos1, pos2))\n",
        "                if l:\n",
        "                    matches.append((docID, l))\n",
        "        return matches\n",
        "\n",
        "    def score_by_proximity(self, matches):\n",
        "        \"\"\"\n",
        "        Score documents based on the proximity of matches.\n",
        "        \"\"\"\n",
        "        scores = {}\n",
        "        for docID, positions in matches:\n",
        "            score = 0\n",
        "            if docID not in scores:\n",
        "                scores[docID] = 0\n",
        "            for pos1, pos2 in positions:\n",
        "                # simple scoring rule is used: the closer the words, the higher the score.\n",
        "                distance = pos2 - pos1\n",
        "                score += self.k - distance + 1\n",
        "            scores[docID] += score \n",
        "\n",
        "        return scores\n",
        "    \n",
        "    def retrieve_postings(self, term):\n",
        "        \"\"\"Retrieve the posting list for a given term from the inverted index.\"\"\"\n",
        "        return self.inverted_index.get(term, {})\n",
        "\n",
        "    def search(self, query):\n",
        "        \"\"\" Search the query in the index and return the top 5 ranked documents\n",
        "        \n",
        "        Keyword arguments:\n",
        "        argument -- query\n",
        "        Return: return the list of top 5 ranked documents for the given query based on proximity scoring\n",
        "        \"\"\"\n",
        "        \n",
        "        print(\"Query:\", query)\n",
        "        # Tokenize and clean the query\n",
        "        terms = clean_and_tokenize(query) \n",
        "        if not terms:\n",
        "            return {}\n",
        "        \n",
        "        # Retrieve postings lists for each term\n",
        "        postings_lists = []\n",
        "        for term in terms:\n",
        "            postings = self.retrieve_postings(term)\n",
        "            if postings:\n",
        "                postings_lists.append(postings)\n",
        "\n",
        "        if not postings_lists:\n",
        "            return {}\n",
        "        \n",
        "        matches = []\n",
        "        i = 0\n",
        "        j = 1\n",
        "\n",
        "        while j < len(postings_lists):\n",
        "            matches += self.positional_intersect(postings_lists[i], postings_lists[j])\n",
        "            i += 1\n",
        "            j += 1\n",
        "\n",
        "        raw_scores = self.score_by_proximity(matches)\n",
        "\n",
        "        top5_ranked_results = sorted(raw_scores.items(), key=lambda x: x[1], reverse=True)[:5]\n",
        "        return top5_ranked_results"
      ]
    },
    {
      "cell_type": "markdown",
      "metadata": {},
      "source": [
        "#### Usage and Results"
      ]
    },
    {
      "cell_type": "code",
      "execution_count": 24,
      "metadata": {},
      "outputs": [
        {
          "name": "stdout",
          "output_type": "stream",
          "text": [
            "Query: I want it all\n",
            "Ranked results: \n"
          ]
        },
        {
          "data": {
            "text/html": [
              "<div>\n",
              "<style scoped>\n",
              "    .dataframe tbody tr th:only-of-type {\n",
              "        vertical-align: middle;\n",
              "    }\n",
              "\n",
              "    .dataframe tbody tr th {\n",
              "        vertical-align: top;\n",
              "    }\n",
              "\n",
              "    .dataframe thead th {\n",
              "        text-align: right;\n",
              "    }\n",
              "</style>\n",
              "<table border=\"1\" class=\"dataframe\">\n",
              "  <thead>\n",
              "    <tr style=\"text-align: right;\">\n",
              "      <th></th>\n",
              "      <th>DocumentID</th>\n",
              "      <th>Score</th>\n",
              "      <th>Lyrics</th>\n",
              "    </tr>\n",
              "  </thead>\n",
              "  <tbody>\n",
              "    <tr>\n",
              "      <th>0</th>\n",
              "      <td>queen-i-want-it-all-lyrics</td>\n",
              "      <td>1291</td>\n",
              "      <td>\\n\\n[Intro: Queen]\\nI want it all (Hey, yeah),...</td>\n",
              "    </tr>\n",
              "    <tr>\n",
              "      <th>1</th>\n",
              "      <td>sophie-beem-i-got-it-lyrics</td>\n",
              "      <td>556</td>\n",
              "      <td>\\n\\n[Intro: Sophie Beem]\\nYou want it\\nI got i...</td>\n",
              "    </tr>\n",
              "    <tr>\n",
              "      <th>2</th>\n",
              "      <td>taylor-swift-call-it-what-you-want-lyrics</td>\n",
              "      <td>505</td>\n",
              "      <td>\\n\\n[Verse 1]\\nMy castle crumbled overnight\\nI...</td>\n",
              "    </tr>\n",
              "    <tr>\n",
              "      <th>3</th>\n",
              "      <td>nile-rodgers-and-chic-i-want-your-love-lady-ga...</td>\n",
              "      <td>497</td>\n",
              "      <td>\\n\\n[Intro]\\nNile, Chic, Gaga\\nI want your lov...</td>\n",
              "    </tr>\n",
              "    <tr>\n",
              "      <th>4</th>\n",
              "      <td>james-blake-modern-soul-lyrics</td>\n",
              "      <td>435</td>\n",
              "      <td>\\n\\n[Verse 1]\\nI know crossroads where I see t...</td>\n",
              "    </tr>\n",
              "  </tbody>\n",
              "</table>\n",
              "</div>"
            ],
            "text/plain": [
              "                                          DocumentID  Score  \\\n",
              "0                         queen-i-want-it-all-lyrics   1291   \n",
              "1                        sophie-beem-i-got-it-lyrics    556   \n",
              "2          taylor-swift-call-it-what-you-want-lyrics    505   \n",
              "3  nile-rodgers-and-chic-i-want-your-love-lady-ga...    497   \n",
              "4                     james-blake-modern-soul-lyrics    435   \n",
              "\n",
              "                                              Lyrics  \n",
              "0  \\n\\n[Intro: Queen]\\nI want it all (Hey, yeah),...  \n",
              "1  \\n\\n[Intro: Sophie Beem]\\nYou want it\\nI got i...  \n",
              "2  \\n\\n[Verse 1]\\nMy castle crumbled overnight\\nI...  \n",
              "3  \\n\\n[Intro]\\nNile, Chic, Gaga\\nI want your lov...  \n",
              "4  \\n\\n[Verse 1]\\nI know crossroads where I see t...  "
            ]
          },
          "execution_count": 24,
          "metadata": {},
          "output_type": "execute_result"
        }
      ],
      "source": [
        "search_engine = SearchEngine(inverted_index, 5)\n",
        "results = search_engine.search('I want it all')\n",
        "print(\"Ranked results: \")\n",
        "df_results = pd.DataFrame(results, columns=['DocumentID', 'Score'])\n",
        "df_results['Lyrics'] = df_results['DocumentID'].apply(lambda x: original_song_lyrics[x])\n",
        "df_results"
      ]
    },
    {
      "cell_type": "code",
      "execution_count": 25,
      "metadata": {},
      "outputs": [
        {
          "name": "stdout",
          "output_type": "stream",
          "text": [
            "Query: I need your love\n",
            "Ranked results: \n"
          ]
        },
        {
          "data": {
            "text/html": [
              "<div>\n",
              "<style scoped>\n",
              "    .dataframe tbody tr th:only-of-type {\n",
              "        vertical-align: middle;\n",
              "    }\n",
              "\n",
              "    .dataframe tbody tr th {\n",
              "        vertical-align: top;\n",
              "    }\n",
              "\n",
              "    .dataframe thead th {\n",
              "        text-align: right;\n",
              "    }\n",
              "</style>\n",
              "<table border=\"1\" class=\"dataframe\">\n",
              "  <thead>\n",
              "    <tr style=\"text-align: right;\">\n",
              "      <th></th>\n",
              "      <th>DocumentID</th>\n",
              "      <th>Score</th>\n",
              "      <th>Lyrics</th>\n",
              "    </tr>\n",
              "  </thead>\n",
              "  <tbody>\n",
              "    <tr>\n",
              "      <th>0</th>\n",
              "      <td>nile-rodgers-and-chic-i-want-your-love-lady-ga...</td>\n",
              "      <td>1554</td>\n",
              "      <td>\\n\\n[Intro]\\nNile, Chic, Gaga\\nI want your lov...</td>\n",
              "    </tr>\n",
              "    <tr>\n",
              "      <th>1</th>\n",
              "      <td>calvin-harris-i-need-your-love-lyrics</td>\n",
              "      <td>453</td>\n",
              "      <td>\\n\\n[Chorus: Ellie Goulding]\\nI need your love...</td>\n",
              "    </tr>\n",
              "    <tr>\n",
              "      <th>2</th>\n",
              "      <td>daft-punk-too-long-lyrics</td>\n",
              "      <td>420</td>\n",
              "      <td>\\n\\n[Produced by Daft Punk]\\n\\n[Intro]\\nToo lo...</td>\n",
              "    </tr>\n",
              "    <tr>\n",
              "      <th>3</th>\n",
              "      <td>chris-brown-little-more-royalty-lyrics</td>\n",
              "      <td>370</td>\n",
              "      <td>\\n\\n[Chorus]\\nWake me up before you go, ooh I ...</td>\n",
              "    </tr>\n",
              "    <tr>\n",
              "      <th>4</th>\n",
              "      <td>hayley-kiyoko-what-i-need-lyrics</td>\n",
              "      <td>276</td>\n",
              "      <td>\\n\\n[Verse 1: Kehlani]\\nAll the back and forth...</td>\n",
              "    </tr>\n",
              "  </tbody>\n",
              "</table>\n",
              "</div>"
            ],
            "text/plain": [
              "                                          DocumentID  Score  \\\n",
              "0  nile-rodgers-and-chic-i-want-your-love-lady-ga...   1554   \n",
              "1              calvin-harris-i-need-your-love-lyrics    453   \n",
              "2                          daft-punk-too-long-lyrics    420   \n",
              "3             chris-brown-little-more-royalty-lyrics    370   \n",
              "4                   hayley-kiyoko-what-i-need-lyrics    276   \n",
              "\n",
              "                                              Lyrics  \n",
              "0  \\n\\n[Intro]\\nNile, Chic, Gaga\\nI want your lov...  \n",
              "1  \\n\\n[Chorus: Ellie Goulding]\\nI need your love...  \n",
              "2  \\n\\n[Produced by Daft Punk]\\n\\n[Intro]\\nToo lo...  \n",
              "3  \\n\\n[Chorus]\\nWake me up before you go, ooh I ...  \n",
              "4  \\n\\n[Verse 1: Kehlani]\\nAll the back and forth...  "
            ]
          },
          "execution_count": 25,
          "metadata": {},
          "output_type": "execute_result"
        }
      ],
      "source": [
        "search_engine = SearchEngine(inverted_index, 5)\n",
        "results = search_engine.search('I need your love')\n",
        "print(\"Ranked results: \")\n",
        "df_results = pd.DataFrame(results, columns=['DocumentID', 'Score'])\n",
        "df_results['Lyrics'] = df_results['DocumentID'].apply(lambda x: original_song_lyrics[x])\n",
        "df_results"
      ]
    },
    {
      "cell_type": "code",
      "execution_count": 26,
      "metadata": {},
      "outputs": [
        {
          "name": "stdout",
          "output_type": "stream",
          "text": [
            "Query: I think bad\n",
            "Ranked results: \n"
          ]
        },
        {
          "data": {
            "text/html": [
              "<div>\n",
              "<style scoped>\n",
              "    .dataframe tbody tr th:only-of-type {\n",
              "        vertical-align: middle;\n",
              "    }\n",
              "\n",
              "    .dataframe tbody tr th {\n",
              "        vertical-align: top;\n",
              "    }\n",
              "\n",
              "    .dataframe thead th {\n",
              "        text-align: right;\n",
              "    }\n",
              "</style>\n",
              "<table border=\"1\" class=\"dataframe\">\n",
              "  <thead>\n",
              "    <tr style=\"text-align: right;\">\n",
              "      <th></th>\n",
              "      <th>DocumentID</th>\n",
              "      <th>Score</th>\n",
              "      <th>Lyrics</th>\n",
              "    </tr>\n",
              "  </thead>\n",
              "  <tbody>\n",
              "    <tr>\n",
              "      <th>0</th>\n",
              "      <td>majid-jordan-asleep-lyrics</td>\n",
              "      <td>244</td>\n",
              "      <td>\\n\\n[Verse 1]\\nDecisions, decisions\\nAll we ev...</td>\n",
              "    </tr>\n",
              "    <tr>\n",
              "      <th>1</th>\n",
              "      <td>grimes-artangels-lyrics</td>\n",
              "      <td>227</td>\n",
              "      <td>\\n\\n[Verse 1]\\nAngel baby, there is\\nNothing I...</td>\n",
              "    </tr>\n",
              "    <tr>\n",
              "      <th>2</th>\n",
              "      <td>panic-at-the-disco-ready-to-go-get-me-out-of-m...</td>\n",
              "      <td>226</td>\n",
              "      <td>\\n\\n[Intro]\\n(Oh oh oh oh oh\\nOh oh oh oh oh)\\...</td>\n",
              "    </tr>\n",
              "    <tr>\n",
              "      <th>3</th>\n",
              "      <td>lana-del-rey-kinda-outta-luck-lyrics</td>\n",
              "      <td>96</td>\n",
              "      <td>\\n\\n[Intro]\\nI was born bad, but then I met yo...</td>\n",
              "    </tr>\n",
              "    <tr>\n",
              "      <th>4</th>\n",
              "      <td>the-1975-fallingforyou-lyrics</td>\n",
              "      <td>76</td>\n",
              "      <td>\\n\\n[Verse 1]\\nWhat time you coming out?\\nWe s...</td>\n",
              "    </tr>\n",
              "  </tbody>\n",
              "</table>\n",
              "</div>"
            ],
            "text/plain": [
              "                                          DocumentID  Score  \\\n",
              "0                         majid-jordan-asleep-lyrics    244   \n",
              "1                            grimes-artangels-lyrics    227   \n",
              "2  panic-at-the-disco-ready-to-go-get-me-out-of-m...    226   \n",
              "3               lana-del-rey-kinda-outta-luck-lyrics     96   \n",
              "4                      the-1975-fallingforyou-lyrics     76   \n",
              "\n",
              "                                              Lyrics  \n",
              "0  \\n\\n[Verse 1]\\nDecisions, decisions\\nAll we ev...  \n",
              "1  \\n\\n[Verse 1]\\nAngel baby, there is\\nNothing I...  \n",
              "2  \\n\\n[Intro]\\n(Oh oh oh oh oh\\nOh oh oh oh oh)\\...  \n",
              "3  \\n\\n[Intro]\\nI was born bad, but then I met yo...  \n",
              "4  \\n\\n[Verse 1]\\nWhat time you coming out?\\nWe s...  "
            ]
          },
          "execution_count": 26,
          "metadata": {},
          "output_type": "execute_result"
        }
      ],
      "source": [
        "search_engine = SearchEngine(inverted_index, 5)\n",
        "results = search_engine.search('I think bad')\n",
        "print(\"Ranked results: \")\n",
        "df_results = pd.DataFrame(results, columns=['DocumentID', 'Score'])\n",
        "df_results['Lyrics'] = df_results['DocumentID'].apply(lambda x: original_song_lyrics[x])\n",
        "df_results"
      ]
    }
  ],
  "metadata": {
    "colab": {
      "provenance": []
    },
    "kernelspec": {
      "display_name": "Python 3",
      "language": "python",
      "name": "python3"
    },
    "language_info": {
      "codemirror_mode": {
        "name": "ipython",
        "version": 3
      },
      "file_extension": ".py",
      "mimetype": "text/x-python",
      "name": "python",
      "nbconvert_exporter": "python",
      "pygments_lexer": "ipython3",
      "version": "3.11.5"
    }
  },
  "nbformat": 4,
  "nbformat_minor": 0
}
